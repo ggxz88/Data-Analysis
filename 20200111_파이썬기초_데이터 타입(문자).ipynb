{
 "cells": [
  {
   "cell_type": "markdown",
   "metadata": {},
   "source": [
    "# 데이터 타입\n",
    "\n",
    "# 문자형"
   ]
  },
  {
   "cell_type": "markdown",
   "metadata": {},
   "source": [
    "# > 생성하기\n",
    "> 여닫는 따옴표는 반드시 문자의 앞 뒤에서 한 쌍으로 완성해야 한다.\n",
    "### 1) 한 줄 문자열 : ', \""
   ]
  },
  {
   "cell_type": "code",
   "execution_count": null,
   "metadata": {},
   "outputs": [],
   "source": [
    "10 # 정수 10\n",
    "'10' # 문자열 10"
   ]
  },
  {
   "cell_type": "code",
   "execution_count": 1,
   "metadata": {},
   "outputs": [
    {
     "ename": "SyntaxError",
     "evalue": "EOL while scanning string literal (<ipython-input-1-0f30ce6b7e37>, line 1)",
     "output_type": "error",
     "traceback": [
      "\u001b[1;36m  File \u001b[1;32m\"<ipython-input-1-0f30ce6b7e37>\"\u001b[1;36m, line \u001b[1;32m1\u001b[0m\n\u001b[1;33m    a = '안녕\u001b[0m\n\u001b[1;37m           ^\u001b[0m\n\u001b[1;31mSyntaxError\u001b[0m\u001b[1;31m:\u001b[0m EOL while scanning string literal\n"
     ]
    }
   ],
   "source": [
    "a = '안녕\n",
    "반가워' # 같은 줄에 없어서 error"
   ]
  },
  {
   "cell_type": "code",
   "execution_count": 2,
   "metadata": {
    "scrolled": false
   },
   "outputs": [
    {
     "name": "stdout",
     "output_type": "stream",
     "text": [
      "안녕 반가워\n"
     ]
    }
   ],
   "source": [
    "a = '안녕 반가워'\n",
    "print(a)"
   ]
  },
  {
   "cell_type": "code",
   "execution_count": 4,
   "metadata": {},
   "outputs": [
    {
     "name": "stdout",
     "output_type": "stream",
     "text": [
      "안녕 \n",
      "반가워\n"
     ]
    }
   ],
   "source": [
    "a = '안녕 \\n반가워'\n",
    "print(a) "
   ]
  },
  {
   "cell_type": "markdown",
   "metadata": {},
   "source": [
    "# 2) 여러 줄 문자열 : ''', \"\"\"\n",
    "- print(0 했을 때 enter(줄바꿈)이 그대로 반영되는 문자열로 처리 가능.\n",
    "- 단 화면에서 보기를 하면(print 없이 주피터 노트북의 결과로 보면)\n",
    "- 줄바꿈이 바로 나타나지 않고 \\n으로 처리된다."
   ]
  },
  {
   "cell_type": "code",
   "execution_count": 6,
   "metadata": {},
   "outputs": [
    {
     "name": "stdout",
     "output_type": "stream",
     "text": [
      "안녕\n",
      "반가워\n"
     ]
    }
   ],
   "source": [
    "a =\"\"\"안녕\n",
    "반가워\"\"\"\n",
    "a # '안녕\\n반가워'\n",
    "print(a)"
   ]
  },
  {
   "cell_type": "markdown",
   "metadata": {},
   "source": [
    "## 3) 문자 속에 문자열 기호 가용하기\n",
    "- 문자열에서 자주 쓰는 기호 : ', \""
   ]
  },
  {
   "cell_type": "code",
   "execution_count": 8,
   "metadata": {},
   "outputs": [
    {
     "name": "stdout",
     "output_type": "stream",
     "text": [
      "She's happy\n"
     ]
    }
   ],
   "source": [
    "# 언어, 문자에서 많이 쓰이는 기호 : she's, \"설렁탕을 사왔는데 왜 먹지를 못하나...\"\n",
    "#a = 'She's happy.' # syntax error\n",
    "a = \"She's happy\" #다른 따옴표 종류로 감싸줘야 함\n",
    "print(a)"
   ]
  },
  {
   "cell_type": "code",
   "execution_count": 9,
   "metadata": {},
   "outputs": [
    {
     "name": "stdout",
     "output_type": "stream",
     "text": [
      "오늘은 \"미세먼지\" 좋음.\n"
     ]
    }
   ],
   "source": [
    "title = '오늘은 \"미세먼지\" 좋음.'\n",
    "print(title)"
   ]
  },
  {
   "cell_type": "code",
   "execution_count": 10,
   "metadata": {},
   "outputs": [
    {
     "name": "stdout",
     "output_type": "stream",
     "text": [
      "She's happy.\n"
     ]
    }
   ],
   "source": [
    "b = 'She\\'s happy.'\n",
    "print(b)"
   ]
  },
  {
   "cell_type": "code",
   "execution_count": 14,
   "metadata": {},
   "outputs": [
    {
     "name": "stdout",
     "output_type": "stream",
     "text": [
      "aaaaaaaaaaaaaaaaaaaaaaaaaaaaaaaaaaaaaaaaaaaaaaaaaaaaaaaaaaaaaaaaaaaaaaaaaaaaaaaaaaaaaaaaaaaaaaaaaaaaaaaaaaaaaaaaaaaaaaaaaaaaaaaaaaaaaaaaaaaaaaaaaaaaaaaaaaaaaaaaaaaaaaaaaa\n"
     ]
    }
   ],
   "source": [
    "# 실제로 한 줄로 출력, 표기만 여러 줄로\n",
    "c = 'aaaaaaaaaaaaaaaaaaaaaaaa\\\n",
    "aaaaaaaaaaaaaaaaaaaaaaaaaaaaaaaaaaaaaaaaaaaaaaaaaaaaaaaaaaaaaa\\\n",
    "aaaaaaaaaaaaaaaaaaaaaaaaaaaaaaaaaaaaaaaaaaaaaaaaaaaaaaaaaaaaaaaaaaaaaaaaaaaaaaaaaaaa'\n",
    "print(c)"
   ]
  },
  {
   "cell_type": "markdown",
   "metadata": {},
   "source": [
    "# <<연습문제>>\n",
    "\n",
    "### 1. 아래와 같은 여러 줄의 문장을 문자열로 만들어서 lines라는 변수에 할당하세요\n",
    "\n",
    "> 파이썬도 배우고\n",
    "> 장고도 배우고\n",
    "> 할게 너무 많아\n",
    "\n",
    "방법1) 여러 줄 문자열 활용하기 (lines 변수에 할당)\n",
    "방법2) 한 줄 문자열 내부에서 \\n 사이사이에 활용하기.(line 변수에 할당)"
   ]
  },
  {
   "cell_type": "code",
   "execution_count": 24,
   "metadata": {},
   "outputs": [
    {
     "name": "stdout",
     "output_type": "stream",
     "text": [
      "파이썬도 배우고 \n",
      "장고도 배우고\n",
      "할게 너무 많아\n"
     ]
    }
   ],
   "source": [
    "lines = '''파이썬도 배우고 \n",
    "장고도 배우고\n",
    "할게 너무 많아'''\n",
    "print(lines)"
   ]
  },
  {
   "cell_type": "code",
   "execution_count": 25,
   "metadata": {},
   "outputs": [
    {
     "name": "stdout",
     "output_type": "stream",
     "text": [
      "파이썬도 배우고 \n",
      "장고도 배우고 \n",
      "할 게 너무 많아\n"
     ]
    }
   ],
   "source": [
    "line = '파이썬도 배우고 \\n장고도 배우고 \\n할 게 너무 많아'\n",
    "print(line)"
   ]
  },
  {
   "cell_type": "markdown",
   "metadata": {},
   "source": [
    "## > 연산하기\n",
    "### 1) 산술연산자 : 문자, 숫자를 함께 연산하기 위한 문법 기호\n",
    "\n",
    "- 문자와 문자를 연결\n",
    "- 동일한 문자를 반복해서 연결"
   ]
  },
  {
   "cell_type": "code",
   "execution_count": 26,
   "metadata": {},
   "outputs": [
    {
     "data": {
      "text/plain": [
       "'가나'"
      ]
     },
     "execution_count": 26,
     "metadata": {},
     "output_type": "execute_result"
    }
   ],
   "source": [
    "# 문자와 문자를 연결 : +\n",
    "'가' + '나'"
   ]
  },
  {
   "cell_type": "code",
   "execution_count": 28,
   "metadata": {},
   "outputs": [
    {
     "data": {
      "text/plain": [
       "'가 나'"
      ]
     },
     "execution_count": 28,
     "metadata": {},
     "output_type": "execute_result"
    }
   ],
   "source": [
    "# 1. 문자열 자체에 공백 추가하기('가 나'로 출력되게 만들기 )\n",
    "'가' + ' ' + '나'\n",
    "'가 '+ '나'\n",
    "'가' + ' 나'"
   ]
  },
  {
   "cell_type": "code",
   "execution_count": 29,
   "metadata": {},
   "outputs": [
    {
     "ename": "TypeError",
     "evalue": "can only concatenate str (not \"int\") to str",
     "output_type": "error",
     "traceback": [
      "\u001b[1;31m---------------------------------------------------------------------------\u001b[0m",
      "\u001b[1;31mTypeError\u001b[0m                                 Traceback (most recent call last)",
      "\u001b[1;32m<ipython-input-29-0901fcb7de4e>\u001b[0m in \u001b[0;36m<module>\u001b[1;34m\u001b[0m\n\u001b[0;32m      1\u001b[0m \u001b[1;31m# 2. 문자 + 숫자 = Error\u001b[0m\u001b[1;33m\u001b[0m\u001b[1;33m\u001b[0m\u001b[1;33m\u001b[0m\u001b[0m\n\u001b[1;32m----> 2\u001b[1;33m \u001b[1;34m'가'\u001b[0m \u001b[1;33m+\u001b[0m \u001b[1;36m1\u001b[0m\u001b[1;33m\u001b[0m\u001b[1;33m\u001b[0m\u001b[0m\n\u001b[0m",
      "\u001b[1;31mTypeError\u001b[0m: can only concatenate str (not \"int\") to str"
     ]
    }
   ],
   "source": [
    "# 2. 문자 + 숫자 = Error\n",
    "'가' + 1 #java는 됨"
   ]
  },
  {
   "cell_type": "code",
   "execution_count": 30,
   "metadata": {},
   "outputs": [
    {
     "data": {
      "text/plain": [
       "'abcabcabc'"
      ]
     },
     "execution_count": 30,
     "metadata": {},
     "output_type": "execute_result"
    }
   ],
   "source": [
    "# 3. 문자를 여러 번 반복하기 : *\n",
    "# 동일한 문자열을 여러 번 반복 연결시켜줌\n",
    "'abc' * 3"
   ]
  },
  {
   "cell_type": "code",
   "execution_count": 31,
   "metadata": {},
   "outputs": [
    {
     "ename": "TypeError",
     "evalue": "can't multiply sequence by non-int of type 'str'",
     "output_type": "error",
     "traceback": [
      "\u001b[1;31m---------------------------------------------------------------------------\u001b[0m",
      "\u001b[1;31mTypeError\u001b[0m                                 Traceback (most recent call last)",
      "\u001b[1;32m<ipython-input-31-c26fa406b60c>\u001b[0m in \u001b[0;36m<module>\u001b[1;34m\u001b[0m\n\u001b[0;32m      1\u001b[0m \u001b[1;31m# 문자 * 문자 = error\u001b[0m\u001b[1;33m\u001b[0m\u001b[1;33m\u001b[0m\u001b[1;33m\u001b[0m\u001b[0m\n\u001b[1;32m----> 2\u001b[1;33m \u001b[1;34m'abc'\u001b[0m \u001b[1;33m*\u001b[0m \u001b[1;34m'a'\u001b[0m\u001b[1;33m\u001b[0m\u001b[1;33m\u001b[0m\u001b[0m\n\u001b[0m",
      "\u001b[1;31mTypeError\u001b[0m: can't multiply sequence by non-int of type 'str'"
     ]
    }
   ],
   "source": [
    "# 문자 * 문자 = error\n",
    "'abc' * 'a'"
   ]
  },
  {
   "cell_type": "markdown",
   "metadata": {},
   "source": [
    "### 2) 비교연산자 : 문자의 크기를 비교하기 위한 문법 기호\n",
    "\n",
    "> 문자의 비교\n",
    "* 대문자 Vs 소문자 : 대문자 < 소문자 크기가 더 크다.\n",
    "* 알파벳 : 알파벳 순서가 뒤에 있을스록 크기가 더 크다.\n",
    "* 문자 길이 : 문자열의 길이가 길수록 크기가 더 크다."
   ]
  },
  {
   "cell_type": "code",
   "execution_count": 33,
   "metadata": {},
   "outputs": [
    {
     "data": {
      "text/plain": [
       "True"
      ]
     },
     "execution_count": 33,
     "metadata": {},
     "output_type": "execute_result"
    }
   ],
   "source": [
    "# 대문자 vs 소문자 : 비교연산자(==, !=, <, >)로 확인\n",
    "'A' < 'a' #True,'A' = 65 'a' = 97 ' ' = 32\n",
    "# 대소비교가 되는 이유(ascii code 때문)"
   ]
  },
  {
   "cell_type": "code",
   "execution_count": 35,
   "metadata": {},
   "outputs": [
    {
     "data": {
      "text/plain": [
       "False"
      ]
     },
     "execution_count": 35,
     "metadata": {},
     "output_type": "execute_result"
    }
   ],
   "source": [
    "# 문자열을 대상으로 할 때에는 무조건 \"첫 글자\"끼리만 비교한다.\n",
    "# 문자 길이는 실제 크기 비교에 영향을 미치지 않음\n",
    "'b' < 'BUs' # False"
   ]
  },
  {
   "cell_type": "code",
   "execution_count": 38,
   "metadata": {},
   "outputs": [
    {
     "data": {
      "text/plain": [
       "True"
      ]
     },
     "execution_count": 38,
     "metadata": {},
     "output_type": "execute_result"
    }
   ],
   "source": [
    "# 영문자와 영문자이외의 다른 문자간 비교는 무조건 영문자가 작게 나온다.\n",
    "#ascii code VS unicode\n",
    "'b' < '가' "
   ]
  },
  {
   "cell_type": "markdown",
   "metadata": {},
   "source": [
    "# > 인덱스 \n",
    "- 아이템(대상이 가지고 있는 최소 단위의 값)의 위치를 나타내는 고유한 번호\n",
    "- 첫 번째 위치는 0부터 시작\n",
    "- 마지막 위치는 -1부터 시작\n",
    "\n",
    "### 1) 인덱싱(indexing) : 특정 위치의 하나의 아이템에 접근하기\n",
    "\n",
    "- 인덱싱 문법기호 : 객체[인덱스번호]"
   ]
  },
  {
   "cell_type": "code",
   "execution_count": 40,
   "metadata": {},
   "outputs": [],
   "source": [
    "# banana라는 문자열에 대해 인덱싱\n",
    "text = 'banana'"
   ]
  },
  {
   "cell_type": "code",
   "execution_count": 41,
   "metadata": {},
   "outputs": [
    {
     "data": {
      "text/plain": [
       "'b'"
      ]
     },
     "execution_count": 41,
     "metadata": {},
     "output_type": "execute_result"
    }
   ],
   "source": [
    "#banana라는 문자열에서 첫 번째 아이템  = 0번째 인덱스번호로 접근\n",
    "# 인덱싱 문법 : 객체(대상 : 값, 자료형)[인덱스번호]\n",
    "text[0]"
   ]
  },
  {
   "cell_type": "code",
   "execution_count": 42,
   "metadata": {},
   "outputs": [
    {
     "data": {
      "text/plain": [
       "'a'"
      ]
     },
     "execution_count": 42,
     "metadata": {},
     "output_type": "execute_result"
    }
   ],
   "source": [
    "# 마지막 아이템인 a에 접근\n",
    "text[5] # text[-1]"
   ]
  },
  {
   "cell_type": "markdown",
   "metadata": {},
   "source": [
    "### 2) 슬라이싱 : 연속된 범위의 여러 아이템에 접근\n",
    "\n",
    "* 대상 객체[처음인덱스:마지막인덱스(:간격)]\n",
    "* 처음 인덱스 번호는 포함(n부터 ~)\n",
    "* 마지막 인덱스번호는 포함하지 않음(~n-1까지)\n",
    "* 간격조정은 할 수고 있고 하지 않을수도 있음"
   ]
  },
  {
   "cell_type": "code",
   "execution_count": 43,
   "metadata": {},
   "outputs": [],
   "source": [
    "# 문자열 생성\n",
    "text = \"hello python world\""
   ]
  },
  {
   "cell_type": "code",
   "execution_count": 46,
   "metadata": {},
   "outputs": [
    {
     "data": {
      "text/plain": [
       "'hello python'"
      ]
     },
     "execution_count": 46,
     "metadata": {},
     "output_type": "execute_result"
    }
   ],
   "source": [
    "# 처음부터 특정 위치까지 : ~ python\n",
    "# 처음 인덱스 : 0\n",
    "# 마지막 인덱스 : -7(뒤에서 7번째까지 가져와야 하므로 실제로는 -6까지를 타겟으로)\n",
    "# 간격 : 기본값(1)\n",
    "text[0:-6]"
   ]
  },
  {
   "cell_type": "code",
   "execution_count": 47,
   "metadata": {},
   "outputs": [
    {
     "data": {
      "text/plain": [
       "'hello python'"
      ]
     },
     "execution_count": 47,
     "metadata": {},
     "output_type": "execute_result"
    }
   ],
   "source": [
    "#첫 인덱스가 0으로 스타트를 끊는다면 생략 가능\n",
    "text[:-6]"
   ]
  },
  {
   "cell_type": "code",
   "execution_count": 48,
   "metadata": {},
   "outputs": [
    {
     "data": {
      "text/plain": [
       "'python'"
      ]
     },
     "execution_count": 48,
     "metadata": {},
     "output_type": "execute_result"
    }
   ],
   "source": [
    "# 특정 위치부터 마지막 아이템까지 : python\n",
    "# 처음 인덱스 : 6\n",
    "# 마지막 인덱스 : -6\n",
    "# 간격 : 기본값(1)\n",
    "text[6:-6]"
   ]
  },
  {
   "cell_type": "code",
   "execution_count": 49,
   "metadata": {},
   "outputs": [
    {
     "data": {
      "text/plain": [
       "'hello python world'"
      ]
     },
     "execution_count": 49,
     "metadata": {},
     "output_type": "execute_result"
    }
   ],
   "source": [
    "# 전체 : 처음 인덱스와 마지막 인덱스를 모두 쓰지 않으면 전체 아이템을 가져오는 결과\n",
    "# 처음 인덱스 기본값 : 0\n",
    "# 마지막 인덱스 기본값 : 마지막까지\n",
    "text[:]"
   ]
  },
  {
   "cell_type": "code",
   "execution_count": 50,
   "metadata": {},
   "outputs": [
    {
     "data": {
      "text/plain": [
       "'hlopto ol'"
      ]
     },
     "execution_count": 50,
     "metadata": {},
     "output_type": "execute_result"
    }
   ],
   "source": [
    "# 간격값으로 2를 주고 전체 범위 슬라이싱\n",
    "text[::2]"
   ]
  },
  {
   "cell_type": "markdown",
   "metadata": {},
   "source": [
    "## > 연습문제\n",
    "\n",
    "### 20200111 미세먼지 양호함\n",
    "#### 위의 문장을 weather 변수에 저장한 다음\n",
    "#### 날짜는date  변수에 슬라이싱으로 받아오고, micro변수에 미세먼지 정도를\n",
    "#### 슬라이싱으로 받아오도록 만들어서 출력해주세요\n",
    "\n",
    "출력양식 : <br>\n",
    "날짜 : 20200111\n",
    "날씨 : 미세먼지 양호함"
   ]
  },
  {
   "cell_type": "code",
   "execution_count": 63,
   "metadata": {},
   "outputs": [],
   "source": [
    "weather = '20200111미세먼지양호함'"
   ]
  },
  {
   "cell_type": "code",
   "execution_count": 65,
   "metadata": {},
   "outputs": [],
   "source": [
    "date = weather[0:8]"
   ]
  },
  {
   "cell_type": "code",
   "execution_count": 66,
   "metadata": {},
   "outputs": [],
   "source": [
    "#micro = weather[8:-1]\n",
    "micro = weather[8:]"
   ]
  },
  {
   "cell_type": "code",
   "execution_count": 67,
   "metadata": {},
   "outputs": [
    {
     "name": "stdout",
     "output_type": "stream",
     "text": [
      "날짜 :  20200111\n",
      "날씨 :  미세먼지양호함\n"
     ]
    }
   ],
   "source": [
    "print(\"날짜 : \", date)\n",
    "print(\"날씨 : \", micro)"
   ]
  },
  {
   "cell_type": "markdown",
   "metadata": {},
   "source": [
    "# >포매팅(Formatting)\n",
    "\n",
    "특정 값만 바뀌고 일정한 형식을 가지는 문자열을 작성할 수 있는 기법"
   ]
  },
  {
   "cell_type": "markdown",
   "metadata": {},
   "source": [
    "### 1. % 포매팅\n",
    "\n",
    "* 데이터 타입에 따른 분류 : 정수, 실수, 문자\n",
    "* 옵션 : 문자열 길이, 표현할 아이템 개수, 정렬, 공백\n",
    "\n",
    "### 1) 숫자 값 대입"
   ]
  },
  {
   "cell_type": "code",
   "execution_count": 69,
   "metadata": {},
   "outputs": [
    {
     "name": "stdout",
     "output_type": "stream",
     "text": [
      "현재 온도는 4도 입니다.\n"
     ]
    }
   ],
   "source": [
    "'''\n",
    "t = 4\n",
    "\n",
    "if t == 4 :\n",
    "    print(\"현재 온도는 4도 입니다.\")\n",
    "elif t == 5 :\n",
    "    print(\"현재 온도는 5도 입니다.\")\n",
    "'''"
   ]
  },
  {
   "cell_type": "code",
   "execution_count": null,
   "metadata": {},
   "outputs": [],
   "source": [
    "# 1. 가변자료가 들어갈 자리 (...에 해당하는)에 구멍(%자료형)을 낸다.\n",
    "# 2. 구멍이 뚫린 문자열 뒤에 %로 연결한 다음 집어넣을 값을 적는다."
   ]
  },
  {
   "cell_type": "code",
   "execution_count": 70,
   "metadata": {},
   "outputs": [
    {
     "data": {
      "text/plain": [
       "'오늘은 21일 입니다.'"
      ]
     },
     "execution_count": 70,
     "metadata": {},
     "output_type": "execute_result"
    }
   ],
   "source": [
    "# 정수 값 포매팅 : 정수(int) -> %d\n",
    "'오늘은 %d일 입니다.' % 21"
   ]
  },
  {
   "cell_type": "code",
   "execution_count": 72,
   "metadata": {},
   "outputs": [
    {
     "data": {
      "text/plain": [
       "'오늘은 21일 입니다.'"
      ]
     },
     "execution_count": 72,
     "metadata": {},
     "output_type": "execute_result"
    }
   ],
   "source": [
    "# 정수 자리의 의미 : 출력되는 형식이 정수라는 의미\n",
    "# 반올림이 아닌 소수점 아래를 버린다.\n",
    "'오늘은 %d일 입니다.' % 21.12975"
   ]
  },
  {
   "cell_type": "code",
   "execution_count": 73,
   "metadata": {},
   "outputs": [
    {
     "data": {
      "text/plain": [
       "'15.000000'"
      ]
     },
     "execution_count": 73,
     "metadata": {},
     "output_type": "execute_result"
    }
   ],
   "source": [
    "# 실수(float)값 포매팅\n",
    "# %f를 이용하여 값에 대한 구멍을 낸다.\n",
    "# %f는 기본적으로 소수점 6자리까지 표현\n",
    "'%f' % 15"
   ]
  },
  {
   "cell_type": "code",
   "execution_count": 74,
   "metadata": {},
   "outputs": [
    {
     "data": {
      "text/plain": [
       "'1.123457'"
      ]
     },
     "execution_count": 74,
     "metadata": {},
     "output_type": "execute_result"
    }
   ],
   "source": [
    "# 실수 값 포매팅2 : 집어넣는 값을 실수로 적용\n",
    "# 실수 값 포매팅은 반올림이 적용된다.\n",
    "'%f' % 1.123456789"
   ]
  },
  {
   "cell_type": "code",
   "execution_count": 76,
   "metadata": {},
   "outputs": [
    {
     "data": {
      "text/plain": [
       "'1.123'"
      ]
     },
     "execution_count": 76,
     "metadata": {},
     "output_type": "execute_result"
    }
   ],
   "source": [
    "# 옵션 : 소수점 아래 자리를 몇자리까지 풀력할지 정할 수 있음\n",
    "# %0.nf : 소수점 아래 n자리 까지만 표현하는 실수\n",
    "'%0.3f' % 1.123456789\n"
   ]
  },
  {
   "cell_type": "code",
   "execution_count": 79,
   "metadata": {},
   "outputs": [
    {
     "data": {
      "text/plain": [
       "'오늘은 9월 21일입니다.'"
      ]
     },
     "execution_count": 79,
     "metadata": {},
     "output_type": "execute_result"
    }
   ],
   "source": [
    "# 가변자료를 2개 이상 넣는 케이스\n",
    "# 집어넣는 값은 왼쪽부터 하나씩 전달됨\n",
    "# 2개 이상을 집어 넣는 경우는 % (첫 번째 값, 두 번째 값, ...) 과 같이 튜플로 전달한다.\n",
    "'오늘은 %d월 %d일입니다.' % (9, 21)\n",
    "#'오늘은 %d월 %d일입니다.' % 9, 21 : error, 두개 이상은 괄호 안에 넣어줘야함"
   ]
  },
  {
   "cell_type": "code",
   "execution_count": 81,
   "metadata": {},
   "outputs": [
    {
     "ename": "TypeError",
     "evalue": "%d format: a number is required, not str",
     "output_type": "error",
     "traceback": [
      "\u001b[1;31m---------------------------------------------------------------------------\u001b[0m",
      "\u001b[1;31mTypeError\u001b[0m                                 Traceback (most recent call last)",
      "\u001b[1;32m<ipython-input-81-97a287ca70fc>\u001b[0m in \u001b[0;36m<module>\u001b[1;34m\u001b[0m\n\u001b[0;32m      1\u001b[0m \u001b[1;31m# %d, %f에 숫자가 아닌 자료를 넣으면 에러 발생\u001b[0m\u001b[1;33m\u001b[0m\u001b[1;33m\u001b[0m\u001b[1;33m\u001b[0m\u001b[0m\n\u001b[1;32m----> 2\u001b[1;33m \u001b[1;34m'%d'\u001b[0m \u001b[1;33m%\u001b[0m \u001b[1;34m'1'\u001b[0m\u001b[1;33m\u001b[0m\u001b[1;33m\u001b[0m\u001b[0m\n\u001b[0m",
      "\u001b[1;31mTypeError\u001b[0m: %d format: a number is required, not str"
     ]
    }
   ],
   "source": [
    "# %d, %f에 숫자가 아닌 자료를 넣으면 에러 발생\n",
    "'%d' % '1'"
   ]
  },
  {
   "cell_type": "markdown",
   "metadata": {},
   "source": [
    "# 2) 문자 대입\n",
    "- %s로 구멍 뚫기\n",
    "- 집어넣는 값에 대해서는 제한이 없다.\n",
    "- 만능 포매팅"
   ]
  },
  {
   "cell_type": "code",
   "execution_count": 83,
   "metadata": {},
   "outputs": [
    {
     "data": {
      "text/plain": [
       "'abc1234님 접속을 환영합니다.'"
      ]
     },
     "execution_count": 83,
     "metadata": {},
     "output_type": "execute_result"
    }
   ],
   "source": [
    "# 집어넣는 값 : 문자 타입\n",
    "'%s님 접속을 환영합니다.' % 'abc1234'"
   ]
  },
  {
   "cell_type": "code",
   "execution_count": 84,
   "metadata": {},
   "outputs": [
    {
     "data": {
      "text/plain": [
       "'100, 숫자도 입력 가능'"
      ]
     },
     "execution_count": 84,
     "metadata": {},
     "output_type": "execute_result"
    }
   ],
   "source": [
    "# 문자 이외의 타입도 가능\n",
    "'%s, 숫자도 입력 가능' % 100"
   ]
  },
  {
   "cell_type": "markdown",
   "metadata": {},
   "source": [
    "### 3) 옵션 설정하기\n",
    "\n",
    "> 작성 순서 : '%s+정렬기호+문자열 길이+.+표현할아이템개수+데이터타입' % 집어넣을값\n",
    "* 문자열 길이 : 구멍 뚫란 자리의 문자열 길이, 따로 옵션을 주지 않으면 집어넣을 값의 길이에 맞춰짐\n",
    "* 정렬 : 기본적으로는 오른쪽 정렬(문자열 길이가 양수값). 음수 값으로 전달하면 왼쪽 정렬\n",
    "* 공백 : 문자열 길이 + 정렬 옵션을 설정하면 자동으로 생성됨\n",
    "* 표현할 아이템 개수 : 실수인 경우는 소수점 아래자리에 적용 \n",
    "* 문자열 안에서 % 기호 사용"
   ]
  },
  {
   "cell_type": "code",
   "execution_count": 90,
   "metadata": {},
   "outputs": [
    {
     "data": {
      "text/plain": [
       "'   abc1234 님 접속을 환영합니다.'"
      ]
     },
     "execution_count": 90,
     "metadata": {},
     "output_type": "execute_result"
    }
   ],
   "source": [
    "# 가변자료 위치를 10칸 확보하고 오른쪽 정렬\n",
    "'%10s 님 접속을 환영합니다.' % 'abc1234'\n",
    "#'%10s 님 접속을 환영합니다.' % 'abc123456789' # 10칸 넘어도 그대로 출력"
   ]
  },
  {
   "cell_type": "code",
   "execution_count": 91,
   "metadata": {},
   "outputs": [
    {
     "data": {
      "text/plain": [
       "'abc1234   님 접속을 환영합니다'"
      ]
     },
     "execution_count": 91,
     "metadata": {},
     "output_type": "execute_result"
    }
   ],
   "source": [
    "# 가변자료 위치를 10칸 확보하고 왼쪽 정렬\n",
    "'%-10s님 접속을 환영합니다' % 'abc1234'"
   ]
  },
  {
   "cell_type": "code",
   "execution_count": 92,
   "metadata": {},
   "outputs": [
    {
     "data": {
      "text/plain": [
       "'12.19                수치 기록'"
      ]
     },
     "execution_count": 92,
     "metadata": {},
     "output_type": "execute_result"
    }
   ],
   "source": [
    "# 실수의 경우는 %칸확보.소수점 아래f 순으로 나열합니다.\n",
    "'%-20.2f 수치 기록' % 12.19248"
   ]
  },
  {
   "cell_type": "markdown",
   "metadata": {},
   "source": [
    "# <<연습 문제>>\n",
    "\n",
    "### 아래 문장에 대해 조건을 만족하는 포매팅을 작성해주세요\n",
    "\"날짜 : 2020-01-11/출석률 : 96%\"\n",
    "    - 전달하는 값 4개\n",
    "    - 출석한 학생 수 20명\n",
    "    - 총 학생 수 : 21명\n",
    "    - 출석률은 소수점 첫번째 자리에서 반올림 적용\n",
    "    "
   ]
  },
  {
   "cell_type": "code",
   "execution_count": 116,
   "metadata": {},
   "outputs": [
    {
     "data": {
      "text/plain": [
       "'날짜 : 2020-01-11 / 출석률 95%'"
      ]
     },
     "execution_count": 116,
     "metadata": {},
     "output_type": "execute_result"
    }
   ],
   "source": [
    "year = 2020\n",
    "month = '01'\n",
    "date = 11\n",
    "All = 21\n",
    "attend = 20\n",
    "attendancerate = (attend/All) * 100\n",
    "\"날짜 : %d-%s-%d / 출석률 %0.0f%%\" % (year, month, date, attendancerate)"
   ]
  },
  {
   "cell_type": "code",
   "execution_count": 117,
   "metadata": {},
   "outputs": [
    {
     "data": {
      "text/plain": [
       "'날짜 : 2020-01-11 / 출석률 95%'"
      ]
     },
     "execution_count": 117,
     "metadata": {},
     "output_type": "execute_result"
    }
   ],
   "source": [
    "\"날짜 : %d-%s-%d / 출석률 %0.0f%%\" % (2020,'01',11,(20/21)*100)"
   ]
  },
  {
   "cell_type": "markdown",
   "metadata": {},
   "source": [
    "### 2. {}포매팅\n",
    "\n",
    "* \"문자열\" .format()을 사용하는 포매팅\n",
    "* 값을 대입하는 방법\n",
    "    - 인덱스 번호(가장 일반적 방법)\n",
    "    - 변수명 & 변수값 => 변수 선언문을 format 함수에 작성, 변수명을 가변자료에 입력\n",
    "    - 인덱스 번호, 변수명 혼합(잘 사용 안함)\n",
    "   * 옵션 : 문자열 길이, 정렬, 공백 대체 문자, 표현할 값 개수(데이터타입 지정)\n",
    "   \n",
    "### 1) 인덱스 번호로 대입"
   ]
  },
  {
   "cell_type": "code",
   "execution_count": 118,
   "metadata": {},
   "outputs": [
    {
     "data": {
      "text/plain": [
       "'100 200 300'"
      ]
     },
     "execution_count": 118,
     "metadata": {},
     "output_type": "execute_result"
    }
   ],
   "source": [
    "# format() 함수의 인자 값으로 들어간 위치를\n",
    "# 문자열 안의 가변인자 위치에 작성하면 원하는 순서대로 넣을 수 있음.\n",
    "# 기본 동작 (인덱스번호 미사용시) : 순서대로 대입\n",
    "'{} {} {}'.format(100, 200, 300)"
   ]
  },
  {
   "cell_type": "code",
   "execution_count": 120,
   "metadata": {},
   "outputs": [
    {
     "data": {
      "text/plain": [
       "'300 100 200'"
      ]
     },
     "execution_count": 120,
     "metadata": {},
     "output_type": "execute_result"
    }
   ],
   "source": [
    "# 순번 입력시 순번 기반으로 입력\n",
    "'{2} {0} {1}'.format(100, 200, 300) #반드시 순서대로 넣지 않아도 됨"
   ]
  },
  {
   "cell_type": "markdown",
   "metadata": {},
   "source": [
    "### 2) 변수명 & 변수값 대입\n",
    "\n",
    "- 변수 선언문을 format 함수에 작성\n",
    "- 변수명을 {}에 사용"
   ]
  },
  {
   "cell_type": "code",
   "execution_count": 121,
   "metadata": {},
   "outputs": [
    {
     "data": {
      "text/plain": [
       "'100'"
      ]
     },
     "execution_count": 121,
     "metadata": {},
     "output_type": "execute_result"
    }
   ],
   "source": [
    "# {}에 변수명을 대입하는 경우에는 format()함수에 값, 변수(이미 만들어진)\n",
    "# 인자값으로 집어넣음\n",
    "'{x2}'.format(x2=100)"
   ]
  },
  {
   "cell_type": "markdown",
   "metadata": {},
   "source": [
    "### 3) 인덱스번호 & 변수명 대입(잘 안씀)\n",
    "    - format() 함수 내에서 인덱스 번호에 해당하는 값을 먼저 작성\n",
    "    - 번호가 다 사용된 후에 변수 선언문을 사용해야 적용이 잘 됨"
   ]
  },
  {
   "cell_type": "code",
   "execution_count": 122,
   "metadata": {},
   "outputs": [],
   "source": [
    "x = 10"
   ]
  },
  {
   "cell_type": "code",
   "execution_count": 123,
   "metadata": {},
   "outputs": [
    {
     "data": {
      "text/plain": [
       "'10 100'"
      ]
     },
     "execution_count": 123,
     "metadata": {},
     "output_type": "execute_result"
    }
   ],
   "source": [
    "# 기존에 사용했던 변수와 함 새로 정의한 값을 추가해서 사용\n",
    "# 새로운 정의한 값을 다시 사용할 필요가 없을 때\n",
    "'{} {test}'.format(x, test=100)"
   ]
  },
  {
   "cell_type": "code",
   "execution_count": 124,
   "metadata": {},
   "outputs": [
    {
     "ename": "SyntaxError",
     "evalue": "positional argument follows keyword argument (<ipython-input-124-18b7d4a87030>, line 2)",
     "output_type": "error",
     "traceback": [
      "\u001b[1;36m  File \u001b[1;32m\"<ipython-input-124-18b7d4a87030>\"\u001b[1;36m, line \u001b[1;32m2\u001b[0m\n\u001b[1;33m    '{} {test}'.format(test=100, x)\u001b[0m\n\u001b[1;37m                                ^\u001b[0m\n\u001b[1;31mSyntaxError\u001b[0m\u001b[1;31m:\u001b[0m positional argument follows keyword argument\n"
     ]
    }
   ],
   "source": [
    "#순서가 바뀐다면?\n",
    "'{} {test}'.format(test=100, x)"
   ]
  },
  {
   "cell_type": "markdown",
   "metadata": {},
   "source": [
    "### 4) 옵션 설정하기\n",
    "\n",
    "> 작성 순서\n",
    "* 데이터타입을 지정하지 않는 경우 : {인덱스번호+:+공백대체문자+정렬기호+문자열길이}\n",
    "* 표현할 자리수를 설정하는 경우 : {인덱스번호+:+공백대체문자+정렬기호+문자열길이+표현할자리수+(데이터타입)}\n",
    "    * 정렬 : 가운데 정렬(^), 좌측 정렬(<), 우측 정렬(>)\n",
    "    * 문자열 길이\n",
    "    * 공백 대체 문자 : 문자열 길이와 정렬이 설정되어야 사용할 수 있다.\n",
    "    * 데이터타입 : 실수와 문자 타입만 표현할 자리수를 설정할 수 있다."
   ]
  },
  {
   "cell_type": "code",
   "execution_count": 126,
   "metadata": {},
   "outputs": [
    {
     "data": {
      "text/plain": [
       "'        hi'"
      ]
     },
     "execution_count": 126,
     "metadata": {},
     "output_type": "execute_result"
    }
   ],
   "source": [
    "# 문자열 길이가 10이며 hi라는 문자가 오늘쪽 정렬된 포매팅\n",
    "'{:>10}'.format('hi')"
   ]
  },
  {
   "cell_type": "code",
   "execution_count": 127,
   "metadata": {},
   "outputs": [
    {
     "data": {
      "text/plain": [
       "'hi        '"
      ]
     },
     "execution_count": 127,
     "metadata": {},
     "output_type": "execute_result"
    }
   ],
   "source": [
    "# 왼쪽 정렬\n",
    "'{:<10}'. format('hi')"
   ]
  },
  {
   "cell_type": "code",
   "execution_count": 130,
   "metadata": {},
   "outputs": [
    {
     "data": {
      "text/plain": [
       "'    hi    '"
      ]
     },
     "execution_count": 130,
     "metadata": {},
     "output_type": "execute_result"
    }
   ],
   "source": [
    "# 가운데 정렬\n",
    "'{:^10}'. format('hi')"
   ]
  },
  {
   "cell_type": "code",
   "execution_count": 131,
   "metadata": {},
   "outputs": [
    {
     "data": {
      "text/plain": [
       "'****hi****'"
      ]
     },
     "execution_count": 131,
     "metadata": {},
     "output_type": "execute_result"
    }
   ],
   "source": [
    "# 가운데 정렬을 하면서 동시에 공백을 띄어쓰기 대신 *로 채우기\n",
    "'{:*^10}'.format('hi')"
   ]
  },
  {
   "cell_type": "code",
   "execution_count": 132,
   "metadata": {},
   "outputs": [
    {
     "data": {
      "text/plain": [
       "'1.235'"
      ]
     },
     "execution_count": 132,
     "metadata": {},
     "output_type": "execute_result"
    }
   ],
   "source": [
    "# 실수 타입에 사용하는 포매팅\n",
    "# 소수점 3자리 까지만 출력하기\n",
    "# 원래 {} f 포매팅은 자료형 지정을 안 하지만, 자리수 지정을 할 때만 예외적으로 지정\n",
    "'{:.3f}'.format(1.23456789)"
   ]
  },
  {
   "cell_type": "code",
   "execution_count": 133,
   "metadata": {},
   "outputs": [
    {
     "data": {
      "text/plain": [
       "'가나다'"
      ]
     },
     "execution_count": 133,
     "metadata": {},
     "output_type": "execute_result"
    }
   ],
   "source": [
    "# 문자 타입에 사용하는 포매팅\n",
    "# 3글자만 출력하기\n",
    "'{:.3s}'.format(\"가나다라마바사\")"
   ]
  },
  {
   "cell_type": "markdown",
   "metadata": {},
   "source": [
    "## > 문자열 내장함수* = 문자열 메서드(중요)\n",
    "\n",
    "    └≫ 내장함수 : 특정 데이터 타입이 자체적으로 가지고 있는 속성으로 존재하는 함수\n",
    "    └≫ 문법 : 변수(데이터타입값).함수명()\n",
    "\n",
    "\n",
    "* count( ) : 특정 문자의 개수\n",
    "\n",
    "\n",
    "* find( ) :특정 문자의 인덱스 번호(위치)\n",
    "\n",
    "\n",
    "* join( ) : 특정 기호를 문자열 아이템 사이에 입력\n",
    "\n",
    "\n",
    "* upper( ) : 문자열을 대문자로 변경\n",
    "\n",
    "\n",
    "* lower( ) : 문자열을 소문자로 변경\n",
    "\n",
    "\n",
    "* capitalize( ) : 문자열의 첫 글자를 대문자로\n",
    "\n",
    "\n",
    "* swapcase( ) : 대문자는 소문자로, 소문자는 대문자로 전환\n",
    "\n",
    "\n",
    "* lstrip( ) / rstrip( ) / strip( ) : 좌 / 우 / 앞뒤 공백(기본) 및 특정 문자 지우기\n",
    "\n",
    "\n",
    "* replace( ) : 기존 문자를 새로운 문자로 바꾸기\n",
    "\n",
    "\n",
    "* split( ) : 특정 기호를 기준으로 문자열을 아이템 단위로 나누어 리스트로 반환\n",
    "\n",
    "\n",
    "* center( ) : 문자열 길이를 지정하여 대상 문자열을 중앙 정렬\n",
    "\n",
    "\n",
    "* ljust( ) : 문자열 길이를 지정하여 대상 문자열을 왼쪽 정렬\n",
    "\n",
    "\n",
    "* rjust( ) : 문자열 길이를 지정하여 대상 문자열을 오른쪽 정렬"
   ]
  },
  {
   "cell_type": "code",
   "execution_count": 135,
   "metadata": {},
   "outputs": [],
   "source": [
    "# 문자열 생성\n",
    "text = 'tomato juice'"
   ]
  },
  {
   "cell_type": "code",
   "execution_count": 137,
   "metadata": {},
   "outputs": [
    {
     "data": {
      "text/plain": [
       "2"
      ]
     },
     "execution_count": 137,
     "metadata": {},
     "output_type": "execute_result"
    }
   ],
   "source": [
    "# count()\n",
    "# text 문자열에서의 a갯수\n",
    "text.count('a')\n",
    "text.count('to') # 단어단위로도 가능!"
   ]
  },
  {
   "cell_type": "code",
   "execution_count": 138,
   "metadata": {},
   "outputs": [
    {
     "data": {
      "text/plain": [
       "3"
      ]
     },
     "execution_count": 138,
     "metadata": {},
     "output_type": "execute_result"
    }
   ],
   "source": [
    "# find() : 특정 값의 인덱스 번호를 반환\n",
    "# text 문자열에서 a의 인덱스 번호\n",
    "text.find('tomato')\n",
    "text.find('a')\n",
    "text.find('to') # 중복돤 요소가 있으면 0번애 가까운 요소만 출력, 단어 단위이면 첫번째 글자의 인덱스 번호 출력"
   ]
  },
  {
   "cell_type": "code",
   "execution_count": 139,
   "metadata": {},
   "outputs": [
    {
     "data": {
      "text/plain": [
       "'TOMATO JUICE'"
      ]
     },
     "execution_count": 139,
     "metadata": {},
     "output_type": "execute_result"
    }
   ],
   "source": [
    "# upper()\n",
    "#변경한 결과를 시물레이션 해서 보여줌(원본 자료는 대문자형 되지 않음)\n",
    "text.upper() # 원본은 변경 안 됨(일시적으로 변환)"
   ]
  },
  {
   "cell_type": "code",
   "execution_count": 141,
   "metadata": {},
   "outputs": [
    {
     "data": {
      "text/plain": [
       "'tomato juice'"
      ]
     },
     "execution_count": 141,
     "metadata": {},
     "output_type": "execute_result"
    }
   ],
   "source": [
    "# lower()\n",
    "text2 = text.upper() # 대문자로 저장 : 'TOMATO JUICE'\n",
    "text2.lower()"
   ]
  },
  {
   "cell_type": "code",
   "execution_count": null,
   "metadata": {},
   "outputs": [],
   "source": []
  },
  {
   "cell_type": "code",
   "execution_count": null,
   "metadata": {},
   "outputs": [],
   "source": []
  },
  {
   "cell_type": "code",
   "execution_count": null,
   "metadata": {},
   "outputs": [],
   "source": []
  },
  {
   "cell_type": "code",
   "execution_count": null,
   "metadata": {},
   "outputs": [],
   "source": []
  },
  {
   "cell_type": "code",
   "execution_count": null,
   "metadata": {},
   "outputs": [],
   "source": []
  },
  {
   "cell_type": "code",
   "execution_count": null,
   "metadata": {},
   "outputs": [],
   "source": []
  }
 ],
 "metadata": {
  "kernelspec": {
   "display_name": "Python 3",
   "language": "python",
   "name": "python3"
  },
  "language_info": {
   "codemirror_mode": {
    "name": "ipython",
    "version": 3
   },
   "file_extension": ".py",
   "mimetype": "text/x-python",
   "name": "python",
   "nbconvert_exporter": "python",
   "pygments_lexer": "ipython3",
   "version": "3.7.4"
  }
 },
 "nbformat": 4,
 "nbformat_minor": 2
}
