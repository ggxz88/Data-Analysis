{
 "cells": [
  {
   "cell_type": "markdown",
   "metadata": {},
   "source": [
    "# GUI 프로그래밍(교안과 함께 참조)\n",
    "\n",
    "- 우리가 흔히 알고 있는 버튼을 활용해 동작시키는 프로그래밍.\n",
    "\n",
    "- 아웃풋을 만들어내서 배포하는데 주로 사용함(다른 두 가지 방법은 웹앱 or 어플리케이션화)\n",
    "\n",
    "- .exe파일로 만들어 사용자에게 제공하는것이 최종 목표"
   ]
  },
  {
   "cell_type": "code",
   "execution_count": 293,
   "metadata": {},
   "outputs": [],
   "source": [
    "# 파이썬 GUI 프로그래밍을 위한 라이브러리 tkinter 임포트\n",
    "from tkinter import *\n",
    "\n",
    "# 하단의 root라는 변수가 바로 우리가 알고있는 창이 됨\n",
    "root = Tk()"
   ]
  },
  {
   "cell_type": "markdown",
   "metadata": {},
   "source": [
    "### 창설정\n",
    "\n",
    "- 창 이름은 .title()로 설정\n",
    "- 창 크기는 .configure(width=\"숫자\", height=\"숫자\") 로 할 경우 픽셀단위 설정\n",
    "- .configure(width=\"숫자m\", height=\"숫자m\") 로 할 경우 mm단위로 설정\n",
    "- 창 크기 설정은 .place()를 사용할때만 사용가능\n",
    "- .grid() 사용시는 grid()에 따른 부품크기에 창이 자동으로 맞춰진다."
   ]
  },
  {
   "cell_type": "code",
   "execution_count": 294,
   "metadata": {},
   "outputs": [],
   "source": [
    "# 타이틀(창 상단에 찍힐 이름) 비꾸기\n",
    "root.title(\"파이썬 GUI 프로그래밍\")\n",
    "\n",
    "# 창 크기 설정\n",
    "root.configure(width=\"100m\", height=\"120m\")"
   ]
  },
  {
   "cell_type": "markdown",
   "metadata": {},
   "source": [
    "# 창부품 개념\n",
    "\n",
    "- 창부품이란 생성한 윈도우 창에 배치할 버튼이나 특별한 기능을 가진 요소(입력창이나 리스트박스 등등) 을 의미합니다.\n",
    "\n",
    "- 위치를 직접 지정해줄 수도 있고, 혹은 상대적인 위치를 지정할 수도 있습니다.<br><br><br>\n",
    "\n",
    "- 위치를 정하는 방법은 <br>\n",
    "- .place(x= , y= , width= , height=) -> x좌표, y좌표, 부품너비, 부품길이\n",
    "- .grid(column=, row= , padx= , pady= ) -> 가로n번째, 세로n번째, 가로축 길이, 세로축 길이\n",
    "- 를 사용합니다."
   ]
  },
  {
   "cell_type": "code",
   "execution_count": 295,
   "metadata": {},
   "outputs": [],
   "source": [
    "# button\n",
    "# 버튼은 클릭했을 때 동작하는 버튼을 의미 \n",
    "# 버튼은 버튼과 버튼을 클릭했을 때 동작시킬 코드(함수로 연결)을 지정해야 가능\n",
    "\n",
    "#### 함수 생성 부분 \n",
    "def test():\n",
    "    print(\"Hello GUI\")\n",
    "def test2():\n",
    "    print(\"직접 배치한 버튼입니다\")\n",
    "\n",
    "#### 부품 설정 및 배치 부분\n",
    "Bt1 = Button(root, text=\"테스트\", command=test)\n",
    "Bt1.place(x=10, y=10, width=100, height=30)\n",
    "\n",
    "\n",
    "### Bt2 변수에 버튼 하나를 추가하고 클릭했을 때 '직접 배치한 버튼입니다.' 라고\n",
    "### 화면에 출력되도록 함수를 연결하고 프린트 구문도 실행하게 만들기\n",
    "Bt2 = Button(root, text=\"테스트2\", command=test2) # command=\"\" -> 함수 만들기 전에 실행할 때\n",
    "Bt2.place(x=140, y=10, width=100, height=30)"
   ]
  },
  {
   "cell_type": "code",
   "execution_count": 296,
   "metadata": {},
   "outputs": [],
   "source": [
    "# Entry\n",
    "# 엔트리는 사용자에게 문자열을 직접 입력받는 창 부품\n",
    "# 엔트리에 입력된 문장은 .get()을 이용해 얻어올 우 있음\n",
    "\n",
    "#### 함수 부분\n",
    "def get_e1():\n",
    "    result = Et1.get()\n",
    "    print(result)\n",
    "\n",
    "### 부품 설정 및 배치 부분\n",
    "Et1 = Entry(root)\n",
    "Et1.place(x=10, y=50, width=100, height=30)\n",
    "\n",
    "Bt3 = Button(root, text=\"엔트리값\", command=get_e1)\n",
    "Bt3.place(x=140, y=50, width=100, height=30)"
   ]
  },
  {
   "cell_type": "code",
   "execution_count": 297,
   "metadata": {},
   "outputs": [],
   "source": [
    "# 엔트리 두 개 만들기\n",
    "# 변수명은 Et2, Et3\n",
    "# Et2에는 이름을, Et3에는 성을 입력 받아서\n",
    "# 버튼을 클릭하면 성 + 이름으로 조합해서\n",
    "# 콘솔창에 출력하도록 부품들 배치\n",
    "\n",
    "def get_e2e3():\n",
    "    result2 = Et3.get() + Et2.get()\n",
    "    print(\"당신의 이름은 \" + result2 + \"입니다\")\n",
    "\n",
    "    \n",
    "Et2 = Entry(root)\n",
    "Et2.place(x=10, y=90, width=100, height=30)\n",
    "\n",
    "Et3 = Entry(root)\n",
    "Et3.place(x=10, y=130, width=100, height=30)\n",
    "\n",
    "\n",
    "Bt4 = Button(root, text='이름 확인', command=get_e2e3)\n",
    "Bt4.place(x=140, y=130, width=100, height=30)"
   ]
  },
  {
   "cell_type": "code",
   "execution_count": 298,
   "metadata": {},
   "outputs": [],
   "source": [
    "# listbox\n",
    "# 리스트 박스는 사용자에게 리스트를 보여주는 창부품\n",
    "# 리스트 박스에는 넣고 싶은 자료를 넣거나 뺄 수 있음\n",
    "# 리스트 박스는 함수 설정을 통해 내부 리스트요소 클릭을 감지할 수 있음\n",
    "\n",
    "### 클릭 감지 함수\n",
    "def onselect(evt):\n",
    "    w = evt.widget\n",
    "    index = w.curselection()\n",
    "    value = w.get(index)\n",
    "    print(index, value)\n",
    "\n",
    "### 부품 설정 및 배치 부분\n",
    "L1 = Listbox(root)\n",
    "L1.place(x=10, y=170, width=100, height=150)\n",
    "# 이벤트 바인딩(사건 묶기)\n",
    "L1.bind('<<ListboxSelect>>', onselect)\n",
    "\n",
    "### 리스트 박스에 요소 추가하기(좋아하는 음식 3개 추가)\n",
    "L1.insert(0, \"사과\")\n",
    "L1.insert(1, \"바나나\")\n",
    "L1.insert(2, \"멜론\")"
   ]
  },
  {
   "cell_type": "code",
   "execution_count": 299,
   "metadata": {},
   "outputs": [],
   "source": [
    "# Listbox를 하나 더 추가\n",
    "# L2 변수를 이용해 만들기\n",
    "# 만든 리스트 박스에는 가고싶은 여행지 5개를 입력\n",
    "# 이벤트 바인딩시 실행할 함수의 이름은 get_selectL2\n",
    "\n",
    "def get_selectL2(evt):\n",
    "    w = evt.widget\n",
    "    index = w.curselection()\n",
    "    value = w.get(index)\n",
    "    print(index, value)\n",
    "    \n",
    "L2 = Listbox(root)\n",
    "L2.place(x=140, y=170, width=100, height=150)\n",
    "L2.bind('<<ListboxSelect>>', get_selectL2)\n",
    "\n",
    "L2.insert(0, \"스페인\")\n",
    "L2.insert(0, \"러시아\")\n",
    "L2.insert(0, \"덴마크\")\n",
    "L2.insert(0, \"핀란드\")\n",
    "L2.insert(0, \"스웨덴\") # 내가 입력한 역순으로 리스트박스에 출력"
   ]
  },
  {
   "cell_type": "code",
   "execution_count": 300,
   "metadata": {},
   "outputs": [],
   "source": [
    "# 리스트 박스 내부에 입력한 자료 삭제\n",
    "L1.delete(0, 0) # 0번에서 0번까지 삭제"
   ]
  },
  {
   "cell_type": "code",
   "execution_count": 301,
   "metadata": {},
   "outputs": [],
   "source": [
    "# 리스트박스 내부에 입력된 전체 자료 삭제\n",
    "L2.delete(0, END) # 터무니없는 숫자 ex)100000000도 가능"
   ]
  },
  {
   "cell_type": "code",
   "execution_count": 302,
   "metadata": {},
   "outputs": [],
   "source": [
    "# Label\n",
    "# 레이블은 사용자에게 보여줄 공지사항 등을 보여주는 창부품\n",
    "# 레이블에는 원하는 문구를 지정해서 창에 출력할 수 있음\n",
    "# 함수를 활용해 결과를 보여줄 수 있고\n",
    "# 함수 활용 이전에 디폴트 상태에서 노출시키는 것도 가능\n",
    "\n",
    "# 외부 창에 출력하기\n",
    "Lb1 = Label(root, text='레이블입니다.')\n",
    "Lb1.place(x=10, y=330, width=100, height=30)"
   ]
  },
  {
   "cell_type": "code",
   "execution_count": 303,
   "metadata": {},
   "outputs": [],
   "source": [
    "# Lb1 오른쪽 x=140, y=330에 Bt5 버튼을 생성\n",
    "# 이 버튼을 클릭하면 함수 get_lb2()를 실행\n",
    "# get_lb2는 내부 실행문을 이용해 함수 내부에서 Lb2변수에 레이블을 생성해줌\n",
    "# 이 함수는 'Lb2 생성완료' 라고 적힌 레이블을 root창 내부에 심어줌\n",
    "# x=10, y=370에 생성하도록 함수를 생성해주세요\n",
    "\n",
    "# Entry E4를 하나 더 추가\n",
    "# get_lb2는 \"Lb2 생성완료\"가 아닌 E4엔트리에 있던 문자열 출력\n",
    "\n",
    "def get_lb2():\n",
    "    #Lb2 = Label(root, text='Lb2 생성 완료')\n",
    "    result = E4.get()\n",
    "    Lb2 = Label(root, text=result)\n",
    "    Lb2.place(x=10, y=370, width=100, height=30)\n",
    "\n",
    "# 버튼 생성\n",
    "Bt5 = Button(root, text='생성', command=get_lb2)\n",
    "Bt5.place(x=140, y=330, width=100, height=30)\n",
    "\n",
    "# 엔트리 생성\n",
    "E4 = Entry(root)\n",
    "E4.place(x=140, y=370, width=100, height=30)"
   ]
  },
  {
   "cell_type": "code",
   "execution_count": 304,
   "metadata": {},
   "outputs": [],
   "source": [
    "# Spinbox\n",
    "# 스핀박스는 엔트리와 비슷하지만 범위 내의 숫자 하나를 고를 수 있는 창부품\n",
    "# 스핀박스 내부의 값을 .get()으로 받을 수 있음\n",
    "\n",
    "### 함수 부분(스핀박스 값을 얻어서 콘솔에 출력)\n",
    "def get_sb1():\n",
    "    value = Sb1.get()\n",
    "    print(value)\n",
    "\n",
    "### 부품 설정 및 배치 부분(1~5범위로 설정)\n",
    "Sb1 = Spinbox(root, from_=1, to=5)\n",
    "Sb1.place(x=10, y=410, width=100, height=30) # 잘려도 배치 가능\n",
    "\n",
    "### 버튼 배치\n",
    "Bt6 = Button(root, text='스핀박스 출력', command=get_sb1)\n",
    "Bt6.place(x=140, y=410, width=100, height=30)"
   ]
  },
  {
   "cell_type": "code",
   "execution_count": 305,
   "metadata": {},
   "outputs": [],
   "source": [
    "# OptionMenu\n",
    "# 선택창과 선택지를 보여주는 창 두 개를 한 세트로 관리\n",
    "\n",
    "### 함수 부분\n",
    "def get_op1():\n",
    "    value = variable.get()\n",
    "    print(value)\n",
    "\n",
    "### 창부품 배치 및 설정\n",
    "option1=[\"1\", \"2\", \"3\", \"4\", \"5\"] # 선택지\n",
    "variable = StringVar(root) #StrinVar는 클릭하지 않은 상태에서 노출시킬 창\n",
    "variable.set(option1[0]) # 메뉴창에 초기에 설정된 값은 Python(option1의 0번째 창)\n",
    "Op1 = OptionMenu(root, variable, *option1) # 선택지와 선택창 연결\n",
    "Op1.place(x=270, y=10, width=100, height=30)\n",
    "\n",
    "### 버튼 배치\n",
    "Bt7 = Button(root, text='창부품 출력', command=get_op1)\n",
    "Bt7.place(x=270, y=50, width=100, height=30)"
   ]
  },
  {
   "cell_type": "markdown",
   "metadata": {},
   "source": [
    "# 이 창은 로직상 마지막에 위치해야 하기 때문에 코드 박스 순서를 가장 하단에 둡니다!\n",
    "\n",
    "- root라는 변수를 유지시키기 위해 .mainloop()가 필요함\n",
    "- root = Tk()는 단순히 창을 만들기 위함"
   ]
  },
  {
   "cell_type": "code",
   "execution_count": 306,
   "metadata": {},
   "outputs": [
    {
     "name": "stdout",
     "output_type": "stream",
     "text": [
      "4\n",
      "1\n",
      "5\n",
      "1\n",
      "4\n",
      "2\n",
      "2\n",
      "Hello GUI\n",
      "직접 배치한 버튼입니다\n"
     ]
    }
   ],
   "source": [
    "# root 변수에 저장된 창을 유지시키기 위해서는 .mainloop()라는 메서드가 필요\n",
    "root.mainloop()"
   ]
  }
 ],
 "metadata": {
  "kernelspec": {
   "display_name": "Python 3",
   "language": "python",
   "name": "python3"
  },
  "language_info": {
   "codemirror_mode": {
    "name": "ipython",
    "version": 3
   },
   "file_extension": ".py",
   "mimetype": "text/x-python",
   "name": "python",
   "nbconvert_exporter": "python",
   "pygments_lexer": "ipython3",
   "version": "3.7.4"
  }
 },
 "nbformat": 4,
 "nbformat_minor": 2
}
