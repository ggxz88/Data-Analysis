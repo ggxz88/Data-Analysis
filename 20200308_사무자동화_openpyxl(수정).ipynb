{
 "cells": [
  {
   "cell_type": "markdown",
   "metadata": {},
   "source": [
    "# openpyxl 라이브러리\n",
    "\n",
    "- 엑셀을 파이썬 명령어로 수정하거나 처리할 수 있음.\n",
    "- 수식이나 셀 합치기, 스타일 지정 등도 할 수 있음.\n",
    "- MIT 라이선스를 따르는 라이브러리"
   ]
  },
  {
   "cell_type": "code",
   "execution_count": 1,
   "metadata": {},
   "outputs": [],
   "source": [
    "# pip install openpyxl(디폴트 설치 되어 있음!)\n",
    "import openpyxl"
   ]
  },
  {
   "cell_type": "code",
   "execution_count": 8,
   "metadata": {},
   "outputs": [
    {
     "data": {
      "text/plain": [
       "<openpyxl.workbook.workbook.Workbook at 0x212ce783f88>"
      ]
     },
     "execution_count": 8,
     "metadata": {},
     "output_type": "execute_result"
    }
   ],
   "source": [
    "# 엑셀파일 만들기(혹은 열기)\n",
    "# 만들기\n",
    "#wb = openpyxl.Workbook()\n",
    "# 열기\n",
    "wb = openpyxl.load_workbook('example.xlsx')\n",
    "wb"
   ]
  },
  {
   "cell_type": "code",
   "execution_count": 11,
   "metadata": {},
   "outputs": [
    {
     "name": "stderr",
     "output_type": "stream",
     "text": [
      "E:\\anaconda\\lib\\site-packages\\ipykernel_launcher.py:2: DeprecationWarning: Call to deprecated function get_sheet_names (Use wb.sheetnames).\n",
      "  \n"
     ]
    },
    {
     "data": {
      "text/plain": [
       "['Sheet1']"
      ]
     },
     "execution_count": 11,
     "metadata": {},
     "output_type": "execute_result"
    }
   ],
   "source": [
    "# 시트 이름 및 시트 개수 조회\n",
    "wb.get_sheet_names()"
   ]
  },
  {
   "cell_type": "code",
   "execution_count": 12,
   "metadata": {},
   "outputs": [
    {
     "name": "stderr",
     "output_type": "stream",
     "text": [
      "E:\\anaconda\\lib\\site-packages\\ipykernel_launcher.py:2: DeprecationWarning: Call to deprecated function get_sheet_by_name (Use wb[sheetname]).\n",
      "  \n"
     ]
    },
    {
     "data": {
      "text/plain": [
       "<Worksheet \"Sheet1\">"
      ]
     },
     "execution_count": 12,
     "metadata": {},
     "output_type": "execute_result"
    }
   ],
   "source": [
    "# 얻은 시트 이름을 기반으로 한 시트만 조회하기\n",
    "sheet = wb.get_sheet_by_name('Sheet1')\n",
    "sheet"
   ]
  },
  {
   "cell_type": "code",
   "execution_count": 13,
   "metadata": {},
   "outputs": [
    {
     "data": {
      "text/plain": [
       "'Sheet1'"
      ]
     },
     "execution_count": 13,
     "metadata": {},
     "output_type": "execute_result"
    }
   ],
   "source": [
    "# 가져온 시트 이름 확인\n",
    "sheet.title"
   ]
  },
  {
   "cell_type": "code",
   "execution_count": 14,
   "metadata": {},
   "outputs": [
    {
     "name": "stderr",
     "output_type": "stream",
     "text": [
      "E:\\anaconda\\lib\\site-packages\\ipykernel_launcher.py:2: DeprecationWarning: Call to deprecated function get_active_sheet (Use the .active property).\n",
      "  \n"
     ]
    },
    {
     "data": {
      "text/plain": [
       "<Worksheet \"Sheet1\">"
      ]
     },
     "execution_count": 14,
     "metadata": {},
     "output_type": "execute_result"
    }
   ],
   "source": [
    "# 현재 파일을 열면 가장 먼저 보일 시트 확인\n",
    "check = wb.get_active_sheet()\n",
    "check"
   ]
  },
  {
   "cell_type": "code",
   "execution_count": 15,
   "metadata": {},
   "outputs": [
    {
     "data": {
      "text/plain": [
       "<Cell 'Sheet1'.A1>"
      ]
     },
     "execution_count": 15,
     "metadata": {},
     "output_type": "execute_result"
    }
   ],
   "source": [
    "# 가져온 시트의 셀 번호를 입력하면(컬럼은 A, B, C... 로우는 1, 2, 3)\n",
    "# 해당 셀에 접근할 수 있음.\n",
    "cellA1 = sheet['A1']\n",
    "cellA1"
   ]
  },
  {
   "cell_type": "code",
   "execution_count": 16,
   "metadata": {},
   "outputs": [
    {
     "data": {
      "text/plain": [
       "'A1'"
      ]
     },
     "execution_count": 16,
     "metadata": {},
     "output_type": "execute_result"
    }
   ],
   "source": [
    "# 셀 번호 확인\n",
    "cellA1.coordinate"
   ]
  },
  {
   "cell_type": "code",
   "execution_count": 17,
   "metadata": {},
   "outputs": [
    {
     "name": "stdout",
     "output_type": "stream",
     "text": [
      "None\n"
     ]
    }
   ],
   "source": [
    "# 셀 내부 자료 확인(현재 빈 셀)\n",
    "print(cellA1.value)"
   ]
  },
  {
   "cell_type": "code",
   "execution_count": 18,
   "metadata": {},
   "outputs": [
    {
     "data": {
      "text/plain": [
       "<Cell 'Sheet1'.A1>"
      ]
     },
     "execution_count": 18,
     "metadata": {},
     "output_type": "execute_result"
    }
   ],
   "source": [
    "# 셀 번호를 직접 입력하는게 아니라 인덱스번호로 가져오기\n",
    "cellA1 = sheet.cell(row=1, column=1)\n",
    "cellA1"
   ]
  },
  {
   "cell_type": "code",
   "execution_count": 19,
   "metadata": {},
   "outputs": [
    {
     "data": {
      "text/plain": [
       "'A1'"
      ]
     },
     "execution_count": 19,
     "metadata": {},
     "output_type": "execute_result"
    }
   ],
   "source": [
    "# 동작상 차이는 없음\n",
    "cellA1.coordinate"
   ]
  },
  {
   "cell_type": "code",
   "execution_count": 20,
   "metadata": {},
   "outputs": [],
   "source": [
    "# A1셀에 자료 입력하기\n",
    "cellA1.value = \"123\""
   ]
  },
  {
   "cell_type": "code",
   "execution_count": 21,
   "metadata": {},
   "outputs": [],
   "source": [
    "# 결과물 파일로 바꾸기\n",
    "wb.save('example_copy.xlsx')"
   ]
  },
  {
   "cell_type": "code",
   "execution_count": 25,
   "metadata": {},
   "outputs": [],
   "source": [
    "# wb 파일 내부의 A1 ~ A300셀에 각각 1, 2, 3... 300 을 입력한 다음\n",
    "# test.xlsx로 저장해주세요. 단, 반복문을 써서 입력한 다음 저장해주세요.\n",
    "#wb = openpyxl.load_workbook('example_copy.xlsx')\n",
    "wb = openpyxl.Workbook()\n",
    "wb\n",
    "sheet = wb['Sheet']\n",
    "sheet\n",
    "for i in range(1, 301):    \n",
    "    select = sheet.cell(row=i, column=1)\n",
    "    select.value = i\n",
    "# A301셀에 A1 ~ A300까지의 총합을 넣을 수 있도록 명령어를 수정\n",
    "select = sheet.cell(row=301, column=1)\n",
    "select.value = '=SUM(A1:A300)'\n",
    "    \n",
    "wb.save('test.xlsx')"
   ]
  },
  {
   "cell_type": "code",
   "execution_count": 26,
   "metadata": {},
   "outputs": [
    {
     "data": {
      "text/plain": [
       "301"
      ]
     },
     "execution_count": 26,
     "metadata": {},
     "output_type": "execute_result"
    }
   ],
   "source": [
    "sheet.max_row"
   ]
  },
  {
   "cell_type": "code",
   "execution_count": 27,
   "metadata": {},
   "outputs": [
    {
     "data": {
      "text/plain": [
       "1"
      ]
     },
     "execution_count": 27,
     "metadata": {},
     "output_type": "execute_result"
    }
   ],
   "source": [
    "sheet.max_column"
   ]
  },
  {
   "cell_type": "code",
   "execution_count": 28,
   "metadata": {},
   "outputs": [],
   "source": [
    "# 3 x 3 형태의 셀에 숫자 입력하기\n",
    "# A1, A2, A3, B1, B2, B3, C1, C2, C3에 각각 1*1, 1*2, 2*1, ..., 3*3을 \n",
    "# 반복문을 이용해 입력한 다음 3x3.xlsx 파일로 저장\n",
    "wb = openpyxl.Workbook()\n",
    "wb\n",
    "sheet = wb['Sheet']\n",
    "sheet\n",
    "\n",
    "for i in range(1, 4):\n",
    "    for j in range(1, 4):\n",
    "        select = sheet.cell(row=i, column=j)\n",
    "        select.value = i*j\n",
    "        \n",
    "wb.save('3x3.xlsx')"
   ]
  },
  {
   "cell_type": "code",
   "execution_count": 45,
   "metadata": {},
   "outputs": [],
   "source": [
    "# 가변 길이 총합 구하기\n",
    "# n x n 형태로 만들되(n은 가변적으로 수치를 바꿔서 넣을 수 있음)\n",
    "# 결과값은 항상 마지막 셀 한칸 아래에 SUM 함수를 이용해 구함\n",
    "wb = openpyxl.Workbook()\n",
    "wb\n",
    "sheet = wb['Sheet']\n",
    "sheet\n",
    "\n",
    "for i in range(1, 20):\n",
    "    for j in range(1, 20):\n",
    "        select = sheet.cell(row=i, column=j)\n",
    "        select.value = i * j\n",
    "# 마지막 셀의 위치 잡기\n",
    "lastcell = sheet.cell(row=sheet.max_row, column=sheet.max_column) #v\n",
    "# 마지막 셀 한 칸 아래에 총합 위치 잡기\n",
    "select = sheet.cell(row=sheet.max_row+1, column=sheet.max_column)\n",
    "select.value = \"=SUM(A1:%s)\" % lastcell.coordinate \n",
    " \n",
    "wb.save('nxn.xlsx')"
   ]
  }
 ],
 "metadata": {
  "kernelspec": {
   "display_name": "Python 3",
   "language": "python",
   "name": "python3"
  },
  "language_info": {
   "codemirror_mode": {
    "name": "ipython",
    "version": 3
   },
   "file_extension": ".py",
   "mimetype": "text/x-python",
   "name": "python",
   "nbconvert_exporter": "python",
   "pygments_lexer": "ipython3",
   "version": "3.7.4"
  }
 },
 "nbformat": 4,
 "nbformat_minor": 2
}
