{
 "cells": [
  {
   "cell_type": "markdown",
   "metadata": {},
   "source": [
    "# 로또복권 번호 추첨기 제작\n",
    "\n",
    "- 버튼1을 누르면 추첨함수 실행\n",
    "- 함수는 로또복권 번호 여섯개(1~45 범위에서 중복된 숫자 없이 6개)를 뽑아냄\n",
    "- 버튼2를 누르면 2등번호 추첨함수 실행\n",
    "- 2등번호는 버튼 1에서 뽑힌 6개를 제외한 1~45번호 중 하나를 추가로 추첨함\n",
    "- 모든 결과는 레이블로 출력함\n",
    "- 출력 창 위에는 레이블로 \"당첨번호\", \"2등보너스번호\" 와 같이 어떤 숫자가 나올지\n",
    "- 미리 위치가 표시되어 있음"
   ]
  },
  {
   "cell_type": "code",
   "execution_count": 310,
   "metadata": {},
   "outputs": [],
   "source": [
    "# 파이썬 gui프로그래밍을 위한 라이브러리 tkinter 임포트\n",
    "from tkinter import *\n",
    "\n",
    "root = Tk()\n",
    "# 로또 추첨을 위한 난수 발생\n",
    "import random"
   ]
  },
  {
   "cell_type": "code",
   "execution_count": 311,
   "metadata": {},
   "outputs": [],
   "source": [
    "root.title(\"로또 번호 추첨기\")\n",
    "\n",
    "root.configure(width=\"80m\", height=\"120m\")"
   ]
  },
  {
   "cell_type": "code",
   "execution_count": 312,
   "metadata": {},
   "outputs": [],
   "source": [
    "# 번호 6개 추첨\n",
    "\n",
    "# 난수(정수 발생) random.randint(시작값, 끝값)\n",
    "random.randint(1, 2)\n",
    "\n",
    "# 난수 번호를 담을 리스트\n",
    "lottonum = []"
   ]
  },
  {
   "cell_type": "code",
   "execution_count": 313,
   "metadata": {},
   "outputs": [],
   "source": [
    "# 함수\n",
    "def lotto():\n",
    "    global lottonum\n",
    "    lottonum.clear()\n",
    "    while len(lottonum)!=6:\n",
    "        '''#나\n",
    "        lottonum.append(random.randint(1, 45))\n",
    "        lottonum = list(set(lottonum))\n",
    "        '''\n",
    "        number = random.randint(1, 45)\n",
    "        if number not in lottonum:\n",
    "            lottonum.append(number)\n",
    "    lottonum.sort()\n",
    "    Lb1 = Label(root, text=lottonum)\n",
    "    Lb1.place(x=10, y=90, width=100, height=30)\n",
    "    \n",
    "    #print(lottonum)\n",
    "    \n",
    "def bonus():\n",
    "    global lottonum\n",
    "    if len(lottonum) != 6:\n",
    "        lotto()\n",
    "    ''' #나\n",
    "    bonusnum = random.randint(1, 45)\n",
    "    if bonusnum not in lottonum :\n",
    "        Lb2 = Label(root, text=bonusnum)\n",
    "        Lb2.place(x=140, y=90, width=100, height=30)\n",
    "    '''\n",
    "    number = random.randint(1, 45)\n",
    "    while number in lottonum:\n",
    "        number = random.randint(1, 45)\n",
    "\n",
    "    Lb2 = Label(root, text=str(number))\n",
    "    Lb2.place(x=140, y=90, width=100, height=30)    \n",
    "#\n",
    "\n",
    "Bt1 = Button(root, text='연속 추첨', command=lotto)\n",
    "Bt1.place(x=10, y=10, width=100, height=30)\n",
    "\n",
    "Bt2 = Button(root, text='보너스번호 추첨', command=bonus)\n",
    "Bt2.place(x=140, y=10, width=100, height=30)\n",
    "\n",
    "Lb3 = Label(root, text=\"로또 복권 번호 6개\")\n",
    "Lb3.place(x=10, y=50, width=100, height=30)\n",
    "\n",
    "Lb4 = Label(root, text=\"보너스 번호\")\n",
    "Lb4.place(x=140, y=50, width=100, height=30)\n",
    "\n",
    "Lb5 = Label(root, text=\"작성자 : 홍길동\", justify=\"right\")\n",
    "Lb5.place(x=140, y=250, width=100, height=30)"
   ]
  },
  {
   "cell_type": "code",
   "execution_count": 314,
   "metadata": {},
   "outputs": [],
   "source": [
    "root.mainloop()"
   ]
  }
 ],
 "metadata": {
  "kernelspec": {
   "display_name": "Python 3",
   "language": "python",
   "name": "python3"
  },
  "language_info": {
   "codemirror_mode": {
    "name": "ipython",
    "version": 3
   },
   "file_extension": ".py",
   "mimetype": "text/x-python",
   "name": "python",
   "nbconvert_exporter": "python",
   "pygments_lexer": "ipython3",
   "version": "3.7.4"
  }
 },
 "nbformat": 4,
 "nbformat_minor": 2
}
