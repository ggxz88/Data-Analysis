{
 "cells": [
  {
   "cell_type": "markdown",
   "metadata": {},
   "source": [
    "# << 제어문 >>\n",
    "\n",
    "\n",
    "\n",
    "## 2-1. while 반복문(+조건문)\n",
    "\n",
    "주어진 조건을 판단하여 조건이 참일 동안 특정한 명령문을 반복적으로 수행하는 것\n",
    "\n",
    "▶ 기본 문법 \n",
    "\n",
    "        while 조건문:\n",
    "            반복적으로 수행할 문장1\n",
    "            반복적으로 수행할 문장2\n",
    "            ...\n",
    "            \n",
    "\n",
    "▶ 주의해야할 문법 : \n",
    "\n",
    "- 조건문 뒤에 반드시 콜론(:)을 써야 한다.\n",
    "\n",
    "\n",
    "- 조건문이 있는 문장 하위에 속하는 실행문장들은 반드시 한 번 들여쓰기 되어야 한다. ( 자동 / tab / space 4번)\n",
    "\n",
    "\n",
    "- 무한반복문에 대한 이해와 관련된 키워드(break, continue 등)를 활용할 수 있어야 한다.\n",
    "\n",
    "\n",
    "\n",
    "\n",
    "▶ 무한반복문 : 조건문이 무조건 참인 경우, while 반복문은 무한히 반복된다.\n",
    "\n",
    "- break 키워드 : 특정 조건을 만족할 경우 제어문을 빠져나가 반복을 종료한다.\n",
    "\n",
    "\n",
    "- continue : 특정 조건을 만족할 경우 반복문을 종료하는 것이 아니라 반복문의 시작으로 돌아간다. (참고) pass"
   ]
  },
  {
   "cell_type": "code",
   "execution_count": 2,
   "metadata": {},
   "outputs": [
    {
     "name": "stdout",
     "output_type": "stream",
     "text": [
      "Hello world\n",
      "Hello world\n",
      "Hello world\n"
     ]
    }
   ],
   "source": [
    "# Hello world 3번 출력\n",
    "loop = 0\n",
    "while loop <= 2: #실핻 도중에 거짓이 되어도 중간에 멈추는게 없이 그대로 실행, 실행여부는 다시 와서 비교를 통해 결정 \n",
    "    #loop가 3인건 중요 x, 무조건 비교를 통해 결정\n",
    "    loop += 1\n",
    "    print(\"Hello world\")\n",
    "    "
   ]
  },
  {
   "cell_type": "code",
   "execution_count": null,
   "metadata": {},
   "outputs": [],
   "source": []
  },
  {
   "cell_type": "code",
   "execution_count": null,
   "metadata": {},
   "outputs": [],
   "source": []
  }
 ],
 "metadata": {
  "kernelspec": {
   "display_name": "Python 3",
   "language": "python",
   "name": "python3"
  },
  "language_info": {
   "codemirror_mode": {
    "name": "ipython",
    "version": 3
   },
   "file_extension": ".py",
   "mimetype": "text/x-python",
   "name": "python",
   "nbconvert_exporter": "python",
   "pygments_lexer": "ipython3",
   "version": "3.7.4"
  }
 },
 "nbformat": 4,
 "nbformat_minor": 2
}
