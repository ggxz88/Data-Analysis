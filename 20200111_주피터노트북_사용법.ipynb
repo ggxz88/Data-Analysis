{
 "cells": [
  {
   "cell_type": "markdown",
   "metadata": {},
   "source": [
    "주피터 노트북 사용법\n",
    "\n",
    "셀을 클릭하면 녹색으로 선택 영역이 지정됨.\n",
    "녹색으로 선택된 셀에는 키보드 입력시 코드/입력문이 직접 입력됨\n",
    "녹색으로 선택된 셀에 esc키를 입력하거나 혹은 셀만 선택시 파란색으로 선택됨\n",
    "\n",
    "파란색으로 선택된 상태에서\n",
    "b -> 선택된 셀 아래에 입력용 셀 추가\n",
    "a -> 선택된 셀 위에 입력용 셀 추가\n",
    "dd -> 선택된 셀 삭제\n",
    "m -> 선택된 셀을 코드 입력용이 아닌 필기용으로 전환\n",
    "y -> 선택된 셀을 필기용에서 코드 입력용으로 전환\n",
    "\n",
    "필기용 셀은 shift + enter를 누르면 필기 완료 모드로 변경"
   ]
  },
  {
   "cell_type": "markdown",
   "metadata": {},
   "source": [
    "# 주피터 노트북 필기\n",
    "## #키를 이용하면 글씨 크기 조절이\n",
    "### 가능합니다\n",
    "#### 갯수가 많아지면 많아질수록\n",
    "##### 글씨크기는 작아집니다.\n",
    "###### #은 6개까지 쓸 수 있습니다"
   ]
  },
  {
   "cell_type": "markdown",
   "metadata": {},
   "source": [
    "-나열해서 필기하고 싶다면\n",
    "- - 한칸 뒤에 필기를 합니다.\n",
    "- 이렇게 나열이 됩니다.\n",
    "    - 띄어쓰기 네칸 + -를 하면\n",
    "    - 도트 아래 하위 항목으로 간주됩니다.\n",
    "        - 도트 아래에서 다시 띄어쓰기를 네 번 더 하면 \n",
    "        - 하위 항목의 하위 항목으로 간주됩니다."
   ]
  },
  {
   "cell_type": "code",
   "execution_count": 3,
   "metadata": {},
   "outputs": [
    {
     "name": "stdout",
     "output_type": "stream",
     "text": [
      "Hello World\n"
     ]
    }
   ],
   "source": [
    "print(\"Hello World\")"
   ]
  },
  {
   "cell_type": "code",
   "execution_count": 4,
   "metadata": {},
   "outputs": [
    {
     "name": "stdout",
     "output_type": "stream",
     "text": [
      "Hello Python\n"
     ]
    }
   ],
   "source": [
    "print(\"Hello Python\")"
   ]
  },
  {
   "cell_type": "code",
   "execution_count": null,
   "metadata": {},
   "outputs": [],
   "source": []
  }
 ],
 "metadata": {
  "kernelspec": {
   "display_name": "Python 3",
   "language": "python",
   "name": "python3"
  },
  "language_info": {
   "codemirror_mode": {
    "name": "ipython",
    "version": 3
   },
   "file_extension": ".py",
   "mimetype": "text/x-python",
   "name": "python",
   "nbconvert_exporter": "python",
   "pygments_lexer": "ipython3",
   "version": "3.7.4"
  }
 },
 "nbformat": 4,
 "nbformat_minor": 2
}
