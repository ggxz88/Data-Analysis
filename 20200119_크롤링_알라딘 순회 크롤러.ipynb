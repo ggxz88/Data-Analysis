{
 "cells": [
  {
   "cell_type": "code",
   "execution_count": 1,
   "metadata": {},
   "outputs": [],
   "source": [
    "# 라이브러리 임포트\n",
    "from selenium import webdriver\n",
    "from bs4 import BeautifulSoup\n",
    "import time\n",
    "import codecs"
   ]
  },
  {
   "cell_type": "code",
   "execution_count": null,
   "metadata": {},
   "outputs": [],
   "source": []
  },
  {
   "cell_type": "code",
   "execution_count": 9,
   "metadata": {},
   "outputs": [],
   "source": [
    "# 크롬 드라이버 파일 세팅\n",
    "driver = webdriver.Chrome(\"chromedriver.exe\")\n",
    "\n",
    "a_rank = codecs.open(\"C:/Users/user/data0102/20200119/result5.txt\", encoding = \"utf-8\", mode=\"w\")\n",
    "\n",
    "idx2 = 0\n",
    "\n",
    "for i in range(1, 21):\n",
    "    \n",
    "    # 알라딘 베스트셀러 페이지로 이동\n",
    "    driver.get(\"https://www.aladin.co.kr/shop/common/wbest.aspx?BestType=Bestseller&page=%s\" % i)\n",
    "    time.sleep(3)\n",
    "    # 소스코드 가져오기\n",
    "    source = driver.page_source\n",
    "\n",
    "    # 소스코드 파싱하기\n",
    "    s1 = BeautifulSoup(source,\"html.parser\")\n",
    "\n",
    "    book_list = s1.find_all(\"div\", class_=\"ss_book_box\")\n",
    "\n",
    "    # 텍스트 파일로(result2.txt)에 순위별로 출력\n",
    "\n",
    "    idx = 0\n",
    "    for book in book_list:\n",
    "        idx2 += 1\n",
    "        li_list = book.find_all(\"li\")\n",
    "        a_rank.write(\"%d위 서적 정보\\r\\n\" % idx2)\n",
    "        if li_list[0].text.strip()[0] == '[':\n",
    "            a_rank.write(li_list[1].text.strip()+\"\\r\\n\")\n",
    "            a_rank.write(li_list[2].text.strip()+\"\\r\\n\")\n",
    "            a_rank.write(li_list[3].text.strip()+\"\\r\\n\")\n",
    "        else:\n",
    "            a_rank.write(li_list[0].text.strip()+\"\\r\\n\")\n",
    "            a_rank.write(li_list[1].text.strip()+\"\\r\\n\")\n",
    "            a_rank.write(li_list[2].text.strip()+\"\\r\\n\")\n",
    "\n",
    "        a_rank.write(\"-------------------\\r\\n\")\n",
    "    \n",
    "a_rank.close()"
   ]
  },
  {
   "cell_type": "code",
   "execution_count": null,
   "metadata": {},
   "outputs": [],
   "source": []
  },
  {
   "cell_type": "code",
   "execution_count": null,
   "metadata": {},
   "outputs": [],
   "source": []
  },
  {
   "cell_type": "code",
   "execution_count": null,
   "metadata": {},
   "outputs": [],
   "source": []
  }
 ],
 "metadata": {
  "kernelspec": {
   "display_name": "Python 3",
   "language": "python",
   "name": "python3"
  },
  "language_info": {
   "codemirror_mode": {
    "name": "ipython",
    "version": 3
   },
   "file_extension": ".py",
   "mimetype": "text/x-python",
   "name": "python",
   "nbconvert_exporter": "python",
   "pygments_lexer": "ipython3",
   "version": "3.7.4"
  }
 },
 "nbformat": 4,
 "nbformat_minor": 2
}
