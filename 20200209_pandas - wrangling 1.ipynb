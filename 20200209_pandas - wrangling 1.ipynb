{
 "cells": [
  {
   "cell_type": "code",
   "execution_count": 2,
   "metadata": {},
   "outputs": [],
   "source": [
    "# 라이브러리 가져오기\n",
    "import pandas as pd # Series, DataFrame 사용\n",
    "import numpy as np # 값을 생성하는데 사용"
   ]
  },
  {
   "cell_type": "markdown",
   "metadata": {},
   "source": [
    "### 계층 색인\n",
    "\n",
    "- 행, 열의 각 축에 대해 다중 단계(계층)를 지정하여 데이터에 차원을 설정\n",
    "- 인덱스에 다차원 리스트를 전달하면 계층 색인을 지정할 수 있음\n",
    "- 데이터 구조를 재배열하거나 pivot 테이블과 같은 그룹 기반 작업에 유용\n",
    "- 재배열 메서드\n",
    "    - stack() : 컬럼을 로우로 피벗\n",
    "    - unstack() : 로우를 컬럼으로 피벗"
   ]
  },
  {
   "cell_type": "code",
   "execution_count": 3,
   "metadata": {},
   "outputs": [
    {
     "data": {
      "text/plain": [
       "a  1    0\n",
       "   2    1\n",
       "   3    2\n",
       "b  1    3\n",
       "   2    4\n",
       "c  1    5\n",
       "   2    6\n",
       "   3    7\n",
       "   4    8\n",
       "d  1    9\n",
       "dtype: int32"
      ]
     },
     "execution_count": 3,
     "metadata": {},
     "output_type": "execute_result"
    }
   ],
   "source": [
    "# Series\n",
    "# 인덱스에 다차원 리스트(아이템 2개)를 전달\n",
    "# 다차원리스트[0] : 상위계층\n",
    "# 상위계층 작성시 주의점 : 각 계층별로 속하는 하위계층 값의 개수만큼 계층명 작성\n",
    "# 상위계층 리스트 개수 = 하위계층 리스트 개수\n",
    "# 다차원리스트[1] : 하위계층\n",
    "# 실습)\n",
    "# 로우 인덱스 - 상위계층 :  a, b, c, d\n",
    "# 하위계층 : a(1, 2, 3), b(1, 2), c(1, 2, 3, 4), d(1)\n",
    "s1 = pd.Series(np.arange(10), index=[['a','a','a','b','b','c','c','c','c','d'], \n",
    "                                    [1,2,3,1,2,1,2,3,4,1]])\n",
    "s1"
   ]
  }
 ],
 "metadata": {
  "kernelspec": {
   "display_name": "Python 3",
   "language": "python",
   "name": "python3"
  },
  "language_info": {
   "codemirror_mode": {
    "name": "ipython",
    "version": 3
   },
   "file_extension": ".py",
   "mimetype": "text/x-python",
   "name": "python",
   "nbconvert_exporter": "python",
   "pygments_lexer": "ipython3",
   "version": "3.7.4"
  }
 },
 "nbformat": 4,
 "nbformat_minor": 2
}
