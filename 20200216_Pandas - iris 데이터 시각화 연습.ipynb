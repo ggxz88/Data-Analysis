{
 "cells": [
  {
   "cell_type": "markdown",
   "metadata": {},
   "source": [
    "### df.plot()\n",
    "\n",
    "- Pandas 데이터타입의 plot 메서드는 matplotlib를 내부에서 임포트하여 사용\n",
    "- plot 메서드 차트 종류 : kind 파라미터 값으로 전달\n",
    "    - line(기본)\n",
    "    - bar\n",
    "    - pie\n",
    "    - hist\n",
    "    - box\n",
    "    - scatter"
   ]
  },
  {
   "cell_type": "code",
   "execution_count": 2,
   "metadata": {},
   "outputs": [],
   "source": [
    "# 라이브러리 가져오기\n",
    "import numpy as np\n",
    "import pandas as pd\n",
    "import matplotlib.pyplot as plt\n",
    "import matplotlib"
   ]
  },
  {
   "cell_type": "code",
   "execution_count": 3,
   "metadata": {
    "scrolled": true
   },
   "outputs": [
    {
     "data": {
      "text/plain": [
       "array([[-1.13383833,  0.38431919,  1.49655378],\n",
       "       [-0.3553823 , -0.78753354, -0.45943891],\n",
       "       [-0.05916877, -0.3541735 , -0.73552305],\n",
       "       [-1.18393989,  0.23889413, -0.58992026],\n",
       "       [-1.44058512,  0.77370311, -1.02796733],\n",
       "       [-0.09098625,  0.492003  ,  0.4246722 ],\n",
       "       [ 1.28304882,  0.31598645, -0.4080822 ],\n",
       "       [-0.06794759, -0.95242666, -0.1106774 ],\n",
       "       [ 0.57059429,  0.91542017, -1.66934051],\n",
       "       [ 0.48271364, -0.31047267,  2.39468973],\n",
       "       [ 1.55093092, -0.64646518, -0.92893724],\n",
       "       [-1.65497614,  0.3501925 , -0.14175652],\n",
       "       [ 0.52108179, -0.02090086, -1.74384395],\n",
       "       [-0.79915888, -1.30357043,  0.178105  ],\n",
       "       [-0.33440236, -0.30602713, -0.33240557],\n",
       "       [ 1.96294734,  0.71924249,  1.14288651],\n",
       "       [ 2.08287697, -1.28464775,  0.53812761],\n",
       "       [-0.04453941,  2.59716437, -0.05826628],\n",
       "       [-0.945287  ,  0.54117239, -0.05500889],\n",
       "       [ 1.12002081, -0.19164295, -0.61013842],\n",
       "       [-0.44457885, -2.2040093 , -0.43067048],\n",
       "       [-0.42509346,  0.14729199,  0.42492427],\n",
       "       [ 0.34725774, -0.27623555, -1.20229562],\n",
       "       [ 1.0310233 ,  0.72331895,  1.43277873],\n",
       "       [ 0.60950687, -0.58415554, -0.15787497],\n",
       "       [-0.36295316,  0.26806865,  0.62198742],\n",
       "       [ 0.23816937, -0.74918356, -0.27898145],\n",
       "       [ 0.70162215,  0.59934453,  0.2154077 ],\n",
       "       [ 1.29986666, -0.603634  ,  0.25224381],\n",
       "       [ 0.83151679, -0.3691887 , -1.02993616],\n",
       "       [-0.64758224,  2.14926711, -2.13702345],\n",
       "       [ 0.46641893, -0.30885458,  2.10312245],\n",
       "       [-1.05039732, -0.12711363, -1.58413055],\n",
       "       [-0.61107444,  0.10371941, -0.03350929],\n",
       "       [ 0.67645242, -1.05224861, -1.37196458],\n",
       "       [ 0.44566265, -1.63641598, -0.60805703],\n",
       "       [-0.17313924, -0.92560832,  0.91265779],\n",
       "       [ 1.25595409,  0.22446599, -0.48041969],\n",
       "       [ 0.46278836, -0.27029161, -0.38369427],\n",
       "       [ 1.21186758, -0.48924378,  0.51854888],\n",
       "       [-2.53326425,  0.6519491 , -1.03153595],\n",
       "       [ 0.00277169,  1.22555377,  0.04428612],\n",
       "       [ 0.17459091, -0.56408931, -0.08665465],\n",
       "       [ 0.39605097, -1.13828939,  0.63709135],\n",
       "       [ 0.78266794,  1.32028663, -0.16221319],\n",
       "       [-1.66191568,  0.63040303, -0.39704979],\n",
       "       [-0.68712952, -0.9732915 , -1.51380086],\n",
       "       [-0.00935942,  1.75681301,  0.28616991],\n",
       "       [ 0.96679481,  0.46102317, -1.26460683],\n",
       "       [-1.91535032, -0.12140471,  1.28541545],\n",
       "       [-0.98161908, -0.27266861, -0.23375549],\n",
       "       [-0.3036371 ,  0.14977868,  0.08623722],\n",
       "       [-0.73688144, -2.23166873,  0.19927274],\n",
       "       [ 0.23655321,  0.38707922,  2.46191884],\n",
       "       [ 1.31265522,  0.39091394, -0.43699848],\n",
       "       [-0.45595526, -2.02704317,  0.7202628 ],\n",
       "       [-0.04754349,  0.84714648,  0.88817594],\n",
       "       [-0.71441986,  1.2694271 , -0.45399339],\n",
       "       [-0.80324455, -0.12848191, -0.03017705],\n",
       "       [-0.213662  ,  0.19652037,  2.10510403],\n",
       "       [-0.23186224,  2.69360554,  0.82010355],\n",
       "       [ 0.68145885, -0.41968184,  0.31670586],\n",
       "       [ 0.36482002,  0.1665959 ,  0.91954341],\n",
       "       [ 1.6923924 , -0.64391075, -0.23965529],\n",
       "       [-0.29615062,  0.04870923,  2.08342666],\n",
       "       [ 0.82349682, -0.94458713,  0.5115886 ],\n",
       "       [-1.36488084,  0.35773999, -2.33491542],\n",
       "       [-1.07520455, -1.88290132,  1.24657858],\n",
       "       [ 0.44994258, -1.01587675,  0.77213413],\n",
       "       [-1.21936445, -0.78163467,  0.55147894],\n",
       "       [-1.53647661, -0.51605913, -0.74829381],\n",
       "       [ 1.38180345,  0.71070823, -0.08274125],\n",
       "       [ 0.5062207 , -1.5552517 ,  1.31257174],\n",
       "       [-0.55009172, -1.01880443,  0.07862286],\n",
       "       [-0.69345234,  0.59594639,  0.12077837],\n",
       "       [ 0.27177977, -1.11942466, -0.86131367],\n",
       "       [ 0.9008566 , -0.90183656,  1.1341654 ],\n",
       "       [-0.31521087, -0.05882157, -0.35054048],\n",
       "       [-1.53623457, -0.17660831, -1.46718061],\n",
       "       [-1.5279869 ,  0.81424748,  1.8177982 ],\n",
       "       [-0.08182213, -0.08966679, -0.19001607],\n",
       "       [-0.03139031, -0.67229979, -1.06872391],\n",
       "       [ 0.39079442,  0.36490531, -1.67760359],\n",
       "       [ 0.18874234, -2.26331652, -0.86905033],\n",
       "       [ 1.88702648, -0.9834788 ,  1.81099649],\n",
       "       [ 0.35922586,  0.12725822, -0.45635606],\n",
       "       [-0.07138168,  1.60736533, -0.38183921],\n",
       "       [-0.69791629, -0.05617987, -0.57484352],\n",
       "       [-1.8472525 , -1.18619456, -0.62910379],\n",
       "       [ 0.00761699, -0.45262083,  0.25460812],\n",
       "       [-0.06620785,  0.35762094,  0.21755646],\n",
       "       [ 0.43319352,  1.19171134,  0.23990394],\n",
       "       [-0.70119435,  0.21111518, -0.6152309 ],\n",
       "       [ 1.21261999,  0.3723896 ,  1.37957288],\n",
       "       [ 0.62114866,  0.57038342,  0.12625615],\n",
       "       [-0.04552006, -0.82765388, -0.16012756],\n",
       "       [-1.32395037,  1.07897308,  1.48446741],\n",
       "       [-0.05632869,  0.48824335, -0.14272282],\n",
       "       [-0.6113287 , -0.37599237, -0.56665814],\n",
       "       [ 0.34107288,  1.96922237, -0.68248718]])"
      ]
     },
     "execution_count": 3,
     "metadata": {},
     "output_type": "execute_result"
    }
   ],
   "source": [
    "# 주가 데이터와 유사한 흐름을 보이는 샘플 생성\n",
    "# value : 표준 정규 분포에서 100 x 3구조의 표본 추출\n",
    "# 컬럼 3개 : A, B, C\n",
    "# insex : pd.date_range(start, [end], peropds=n)\n",
    "np.random.seed(111)\n",
    "data = np.random.randn(100, 3)\n",
    "data"
   ]
  },
  {
   "cell_type": "code",
   "execution_count": 8,
   "metadata": {},
   "outputs": [
    {
     "data": {
      "text/html": [
       "<div>\n",
       "<style scoped>\n",
       "    .dataframe tbody tr th:only-of-type {\n",
       "        vertical-align: middle;\n",
       "    }\n",
       "\n",
       "    .dataframe tbody tr th {\n",
       "        vertical-align: top;\n",
       "    }\n",
       "\n",
       "    .dataframe thead th {\n",
       "        text-align: right;\n",
       "    }\n",
       "</style>\n",
       "<table border=\"1\" class=\"dataframe\">\n",
       "  <thead>\n",
       "    <tr style=\"text-align: right;\">\n",
       "      <th></th>\n",
       "      <th>A</th>\n",
       "      <th>B</th>\n",
       "      <th>C</th>\n",
       "    </tr>\n",
       "  </thead>\n",
       "  <tbody>\n",
       "    <tr>\n",
       "      <td>2019-10-01</td>\n",
       "      <td>-1.133838</td>\n",
       "      <td>0.384319</td>\n",
       "      <td>1.496554</td>\n",
       "    </tr>\n",
       "    <tr>\n",
       "      <td>2019-10-02</td>\n",
       "      <td>-1.489221</td>\n",
       "      <td>-0.403214</td>\n",
       "      <td>1.037115</td>\n",
       "    </tr>\n",
       "    <tr>\n",
       "      <td>2019-10-03</td>\n",
       "      <td>-1.548389</td>\n",
       "      <td>-0.757388</td>\n",
       "      <td>0.301592</td>\n",
       "    </tr>\n",
       "    <tr>\n",
       "      <td>2019-10-04</td>\n",
       "      <td>-2.732329</td>\n",
       "      <td>-0.518494</td>\n",
       "      <td>-0.288328</td>\n",
       "    </tr>\n",
       "    <tr>\n",
       "      <td>2019-10-05</td>\n",
       "      <td>-4.172914</td>\n",
       "      <td>0.255209</td>\n",
       "      <td>-1.316296</td>\n",
       "    </tr>\n",
       "    <tr>\n",
       "      <td>...</td>\n",
       "      <td>...</td>\n",
       "      <td>...</td>\n",
       "      <td>...</td>\n",
       "    </tr>\n",
       "    <tr>\n",
       "      <td>2020-01-04</td>\n",
       "      <td>-1.581068</td>\n",
       "      <td>-9.757020</td>\n",
       "      <td>0.196845</td>\n",
       "    </tr>\n",
       "    <tr>\n",
       "      <td>2020-01-05</td>\n",
       "      <td>-2.905018</td>\n",
       "      <td>-8.678047</td>\n",
       "      <td>1.681313</td>\n",
       "    </tr>\n",
       "    <tr>\n",
       "      <td>2020-01-06</td>\n",
       "      <td>-2.961347</td>\n",
       "      <td>-8.189804</td>\n",
       "      <td>1.538590</td>\n",
       "    </tr>\n",
       "    <tr>\n",
       "      <td>2020-01-07</td>\n",
       "      <td>-3.572676</td>\n",
       "      <td>-8.565796</td>\n",
       "      <td>0.971932</td>\n",
       "    </tr>\n",
       "    <tr>\n",
       "      <td>2020-01-08</td>\n",
       "      <td>-3.231603</td>\n",
       "      <td>-6.596574</td>\n",
       "      <td>0.289445</td>\n",
       "    </tr>\n",
       "  </tbody>\n",
       "</table>\n",
       "<p>100 rows × 3 columns</p>\n",
       "</div>"
      ],
      "text/plain": [
       "                   A         B         C\n",
       "2019-10-01 -1.133838  0.384319  1.496554\n",
       "2019-10-02 -1.489221 -0.403214  1.037115\n",
       "2019-10-03 -1.548389 -0.757388  0.301592\n",
       "2019-10-04 -2.732329 -0.518494 -0.288328\n",
       "2019-10-05 -4.172914  0.255209 -1.316296\n",
       "...              ...       ...       ...\n",
       "2020-01-04 -1.581068 -9.757020  0.196845\n",
       "2020-01-05 -2.905018 -8.678047  1.681313\n",
       "2020-01-06 -2.961347 -8.189804  1.538590\n",
       "2020-01-07 -3.572676 -8.565796  0.971932\n",
       "2020-01-08 -3.231603 -6.596574  0.289445\n",
       "\n",
       "[100 rows x 3 columns]"
      ]
     },
     "execution_count": 8,
     "metadata": {},
     "output_type": "execute_result"
    }
   ],
   "source": [
    "df = pd.DataFrame(data,\n",
    "                 #2019-10-01 부터 100일 간의 날짜 생성\n",
    "                 index=pd.date_range('10/1/2019', periods=100),\n",
    "                 columns=['A', 'B', 'C']).cumsum()\n",
    "df"
   ]
  },
  {
   "cell_type": "code",
   "execution_count": 11,
   "metadata": {},
   "outputs": [
    {
     "data": {
      "text/plain": [
       "<matplotlib.axes._subplots.AxesSubplot at 0x16f42f9b648>"
      ]
     },
     "execution_count": 11,
     "metadata": {},
     "output_type": "execute_result"
    },
    {
     "data": {
      "image/png": "[encoded data removed]",
      "text/plain": [
       "<Figure size 432x288 with 1 Axes>"
      ]
     },
     "metadata": {
      "needs_background": "light"
     },
     "output_type": "display_data"
    }
   ],
   "source": [
    "# 라인플롯(디폴트)\n",
    "df.plot()"
   ]
  },
  {
   "cell_type": "code",
   "execution_count": 3,
   "metadata": {},
   "outputs": [],
   "source": [
    "# 라이브러리에서 제공하는 기본 데이터 가져오기\n",
    "import seaborn as sns"
   ]
  },
  {
   "cell_type": "code",
   "execution_count": 4,
   "metadata": {},
   "outputs": [],
   "source": [
    "# 붓꽃 데이터 저장\n",
    "iris = sns.load_dataset('iris')"
   ]
  },
  {
   "cell_type": "code",
   "execution_count": 5,
   "metadata": {},
   "outputs": [
    {
     "data": {
      "text/plain": [
       "(150, 5)"
      ]
     },
     "execution_count": 5,
     "metadata": {},
     "output_type": "execute_result"
    }
   ],
   "source": [
    "iris.shape"
   ]
  },
  {
   "cell_type": "code",
   "execution_count": 6,
   "metadata": {
    "scrolled": true
   },
   "outputs": [
    {
     "data": {
      "text/html": [
       "<div>\n",
       "<style scoped>\n",
       "    .dataframe tbody tr th:only-of-type {\n",
       "        vertical-align: middle;\n",
       "    }\n",
       "\n",
       "    .dataframe tbody tr th {\n",
       "        vertical-align: top;\n",
       "    }\n",
       "\n",
       "    .dataframe thead th {\n",
       "        text-align: right;\n",
       "    }\n",
       "</style>\n",
       "<table border=\"1\" class=\"dataframe\">\n",
       "  <thead>\n",
       "    <tr style=\"text-align: right;\">\n",
       "      <th></th>\n",
       "      <th>sepal_length</th>\n",
       "      <th>sepal_width</th>\n",
       "      <th>petal_length</th>\n",
       "      <th>petal_width</th>\n",
       "      <th>species</th>\n",
       "    </tr>\n",
       "  </thead>\n",
       "  <tbody>\n",
       "    <tr>\n",
       "      <td>0</td>\n",
       "      <td>5.1</td>\n",
       "      <td>3.5</td>\n",
       "      <td>1.4</td>\n",
       "      <td>0.2</td>\n",
       "      <td>setosa</td>\n",
       "    </tr>\n",
       "    <tr>\n",
       "      <td>1</td>\n",
       "      <td>4.9</td>\n",
       "      <td>3.0</td>\n",
       "      <td>1.4</td>\n",
       "      <td>0.2</td>\n",
       "      <td>setosa</td>\n",
       "    </tr>\n",
       "    <tr>\n",
       "      <td>2</td>\n",
       "      <td>4.7</td>\n",
       "      <td>3.2</td>\n",
       "      <td>1.3</td>\n",
       "      <td>0.2</td>\n",
       "      <td>setosa</td>\n",
       "    </tr>\n",
       "    <tr>\n",
       "      <td>3</td>\n",
       "      <td>4.6</td>\n",
       "      <td>3.1</td>\n",
       "      <td>1.5</td>\n",
       "      <td>0.2</td>\n",
       "      <td>setosa</td>\n",
       "    </tr>\n",
       "    <tr>\n",
       "      <td>4</td>\n",
       "      <td>5.0</td>\n",
       "      <td>3.6</td>\n",
       "      <td>1.4</td>\n",
       "      <td>0.2</td>\n",
       "      <td>setosa</td>\n",
       "    </tr>\n",
       "  </tbody>\n",
       "</table>\n",
       "</div>"
      ],
      "text/plain": [
       "   sepal_length  sepal_width  petal_length  petal_width species\n",
       "0           5.1          3.5           1.4          0.2  setosa\n",
       "1           4.9          3.0           1.4          0.2  setosa\n",
       "2           4.7          3.2           1.3          0.2  setosa\n",
       "3           4.6          3.1           1.5          0.2  setosa\n",
       "4           5.0          3.6           1.4          0.2  setosa"
      ]
     },
     "execution_count": 6,
     "metadata": {},
     "output_type": "execute_result"
    }
   ],
   "source": [
    "iris.head()"
   ]
  },
  {
   "cell_type": "code",
   "execution_count": 7,
   "metadata": {},
   "outputs": [],
   "source": [
    "# plot에서 한글 폰트 설정\n",
    "font_name = matplotlib.font_manager.FontProperties(fname = 'C:/Windows/Fonts/malgun.ttf').get_name() # 맑은 고딕\n",
    "matplotlib.rc('font', family = font_name)\n",
    "# 음수부호가 정확하게 표시되기 위해 추가할 코드\n",
    "matplotlib.rcParams['axes.unicode_minus']=False"
   ]
  },
  {
   "cell_type": "code",
   "execution_count": 8,
   "metadata": {},
   "outputs": [
    {
     "data": {
      "image/png": "[encoded data removed]",
      "text/plain": [
       "<Figure size 432x288 with 1 Axes>"
      ]
     },
     "metadata": {
      "needs_background": "light"
     },
     "output_type": "display_data"
    }
   ],
   "source": [
    "# sepal_length(꽃받침길이)의 20개 샘플에 대하여 bar graph로 시각화\n",
    "# series.plot()\n",
    "iris.sepal_length[:20].plot(kind='bar', rot=0) # rot : 숫자 각도\n",
    "plt.title('샘플 20개에 대한 꽃받침의 길이')\n",
    "plt.xlabel('샘플번호')\n",
    "plt.ylabel('꽃받침의 길이')\n",
    "plt.show()"
   ]
  },
  {
   "cell_type": "code",
   "execution_count": 9,
   "metadata": {},
   "outputs": [
    {
     "data": {
      "image/png": "[encoded data removed]",
      "text/plain": [
       "<Figure size 432x288 with 1 Axes>"
      ]
     },
     "metadata": {
      "needs_background": "light"
     },
     "output_type": "display_data"
    }
   ],
   "source": [
    "# 샘플 데이터의 각 속성값(sepal length, width / petal length, width )에 대해서 bar graph 생성\n",
    "iris[:5].plot(kind='bar', rot=0) #plt.bar()\n",
    "plt.title('5송이 꽃에 대한 4가지 속성값 비교')\n",
    "plt.xlabel('sample')\n",
    "plt.ylabel('cm')\n",
    "plt.ylim(0, 8)\n",
    "plt.show()"
   ]
  },
  {
   "cell_type": "code",
   "execution_count": 10,
   "metadata": {},
   "outputs": [
    {
     "data": {
      "text/html": [
       "<div>\n",
       "<style scoped>\n",
       "    .dataframe tbody tr th:only-of-type {\n",
       "        vertical-align: middle;\n",
       "    }\n",
       "\n",
       "    .dataframe tbody tr th {\n",
       "        vertical-align: top;\n",
       "    }\n",
       "\n",
       "    .dataframe thead th {\n",
       "        text-align: right;\n",
       "    }\n",
       "</style>\n",
       "<table border=\"1\" class=\"dataframe\">\n",
       "  <thead>\n",
       "    <tr style=\"text-align: right;\">\n",
       "      <th></th>\n",
       "      <th>sepal_length</th>\n",
       "      <th>sepal_width</th>\n",
       "      <th>petal_length</th>\n",
       "      <th>petal_width</th>\n",
       "      <th>species</th>\n",
       "    </tr>\n",
       "  </thead>\n",
       "  <tbody>\n",
       "    <tr>\n",
       "      <td>0</td>\n",
       "      <td>5.1</td>\n",
       "      <td>3.5</td>\n",
       "      <td>1.4</td>\n",
       "      <td>0.2</td>\n",
       "      <td>setosa</td>\n",
       "    </tr>\n",
       "    <tr>\n",
       "      <td>1</td>\n",
       "      <td>4.9</td>\n",
       "      <td>3.0</td>\n",
       "      <td>1.4</td>\n",
       "      <td>0.2</td>\n",
       "      <td>setosa</td>\n",
       "    </tr>\n",
       "    <tr>\n",
       "      <td>2</td>\n",
       "      <td>4.7</td>\n",
       "      <td>3.2</td>\n",
       "      <td>1.3</td>\n",
       "      <td>0.2</td>\n",
       "      <td>setosa</td>\n",
       "    </tr>\n",
       "    <tr>\n",
       "      <td>3</td>\n",
       "      <td>4.6</td>\n",
       "      <td>3.1</td>\n",
       "      <td>1.5</td>\n",
       "      <td>0.2</td>\n",
       "      <td>setosa</td>\n",
       "    </tr>\n",
       "    <tr>\n",
       "      <td>4</td>\n",
       "      <td>5.0</td>\n",
       "      <td>3.6</td>\n",
       "      <td>1.4</td>\n",
       "      <td>0.2</td>\n",
       "      <td>setosa</td>\n",
       "    </tr>\n",
       "  </tbody>\n",
       "</table>\n",
       "</div>"
      ],
      "text/plain": [
       "   sepal_length  sepal_width  petal_length  petal_width species\n",
       "0           5.1          3.5           1.4          0.2  setosa\n",
       "1           4.9          3.0           1.4          0.2  setosa\n",
       "2           4.7          3.2           1.3          0.2  setosa\n",
       "3           4.6          3.1           1.5          0.2  setosa\n",
       "4           5.0          3.6           1.4          0.2  setosa"
      ]
     },
     "execution_count": 10,
     "metadata": {},
     "output_type": "execute_result"
    }
   ],
   "source": [
    "iris.head()"
   ]
  },
  {
   "cell_type": "code",
   "execution_count": 11,
   "metadata": {},
   "outputs": [
    {
     "data": {
      "text/html": [
       "<div>\n",
       "<style scoped>\n",
       "    .dataframe tbody tr th:only-of-type {\n",
       "        vertical-align: middle;\n",
       "    }\n",
       "\n",
       "    .dataframe tbody tr th {\n",
       "        vertical-align: top;\n",
       "    }\n",
       "\n",
       "    .dataframe thead th {\n",
       "        text-align: right;\n",
       "    }\n",
       "</style>\n",
       "<table border=\"1\" class=\"dataframe\">\n",
       "  <thead>\n",
       "    <tr style=\"text-align: right;\">\n",
       "      <th></th>\n",
       "      <th>petal_length</th>\n",
       "      <th>petal_width</th>\n",
       "      <th>sepal_length</th>\n",
       "      <th>sepal_width</th>\n",
       "    </tr>\n",
       "    <tr>\n",
       "      <th>species</th>\n",
       "      <th></th>\n",
       "      <th></th>\n",
       "      <th></th>\n",
       "      <th></th>\n",
       "    </tr>\n",
       "  </thead>\n",
       "  <tbody>\n",
       "    <tr>\n",
       "      <td>setosa</td>\n",
       "      <td>1.462</td>\n",
       "      <td>0.246</td>\n",
       "      <td>5.006</td>\n",
       "      <td>3.428</td>\n",
       "    </tr>\n",
       "    <tr>\n",
       "      <td>versicolor</td>\n",
       "      <td>4.260</td>\n",
       "      <td>1.326</td>\n",
       "      <td>5.936</td>\n",
       "      <td>2.770</td>\n",
       "    </tr>\n",
       "    <tr>\n",
       "      <td>virginica</td>\n",
       "      <td>5.552</td>\n",
       "      <td>2.026</td>\n",
       "      <td>6.588</td>\n",
       "      <td>2.974</td>\n",
       "    </tr>\n",
       "  </tbody>\n",
       "</table>\n",
       "</div>"
      ],
      "text/plain": [
       "            petal_length  petal_width  sepal_length  sepal_width\n",
       "species                                                         \n",
       "setosa             1.462        0.246         5.006        3.428\n",
       "versicolor         4.260        1.326         5.936        2.770\n",
       "virginica          5.552        2.026         6.588        2.974"
      ]
     },
     "execution_count": 11,
     "metadata": {},
     "output_type": "execute_result"
    }
   ],
   "source": [
    "# 각 종별로 4개 속성값의 평균 -> 각 속성이 종별로 어떤 차이가 있는지 보기 위해서, \n",
    "iris.pivot_table(index='species', values=['sepal_length', 'sepal_width', 'petal_length', 'petal_width'], aggfunc='mean')"
   ]
  },
  {
   "cell_type": "code",
   "execution_count": 12,
   "metadata": {},
   "outputs": [],
   "source": [
    "# .groupby()를 사용하는 케이스\n",
    "df2 = iris.groupby('species').mean()"
   ]
  },
  {
   "cell_type": "code",
   "execution_count": 13,
   "metadata": {},
   "outputs": [
    {
     "data": {
      "text/html": [
       "<div>\n",
       "<style scoped>\n",
       "    .dataframe tbody tr th:only-of-type {\n",
       "        vertical-align: middle;\n",
       "    }\n",
       "\n",
       "    .dataframe tbody tr th {\n",
       "        vertical-align: top;\n",
       "    }\n",
       "\n",
       "    .dataframe thead th {\n",
       "        text-align: right;\n",
       "    }\n",
       "</style>\n",
       "<table border=\"1\" class=\"dataframe\">\n",
       "  <thead>\n",
       "    <tr style=\"text-align: right;\">\n",
       "      <th></th>\n",
       "      <th>sepal_length</th>\n",
       "      <th>sepal_width</th>\n",
       "      <th>petal_length</th>\n",
       "      <th>petal_width</th>\n",
       "    </tr>\n",
       "    <tr>\n",
       "      <th>species</th>\n",
       "      <th></th>\n",
       "      <th></th>\n",
       "      <th></th>\n",
       "      <th></th>\n",
       "    </tr>\n",
       "  </thead>\n",
       "  <tbody>\n",
       "    <tr>\n",
       "      <td>setosa</td>\n",
       "      <td>5.006</td>\n",
       "      <td>3.428</td>\n",
       "      <td>1.462</td>\n",
       "      <td>0.246</td>\n",
       "    </tr>\n",
       "    <tr>\n",
       "      <td>versicolor</td>\n",
       "      <td>5.936</td>\n",
       "      <td>2.770</td>\n",
       "      <td>4.260</td>\n",
       "      <td>1.326</td>\n",
       "    </tr>\n",
       "    <tr>\n",
       "      <td>virginica</td>\n",
       "      <td>6.588</td>\n",
       "      <td>2.974</td>\n",
       "      <td>5.552</td>\n",
       "      <td>2.026</td>\n",
       "    </tr>\n",
       "  </tbody>\n",
       "</table>\n",
       "</div>"
      ],
      "text/plain": [
       "            sepal_length  sepal_width  petal_length  petal_width\n",
       "species                                                         \n",
       "setosa             5.006        3.428         1.462        0.246\n",
       "versicolor         5.936        2.770         4.260        1.326\n",
       "virginica          6.588        2.974         5.552        2.026"
      ]
     },
     "execution_count": 13,
     "metadata": {},
     "output_type": "execute_result"
    }
   ],
   "source": [
    "df2"
   ]
  },
  {
   "cell_type": "code",
   "execution_count": 14,
   "metadata": {},
   "outputs": [
    {
     "data": {
      "image/png": "[encoded data removed]",
      "text/plain": [
       "<Figure size 432x288 with 1 Axes>"
      ]
     },
     "metadata": {
      "needs_background": "light"
     },
     "output_type": "display_data"
    }
   ],
   "source": [
    "# bar graph로 시각화\n",
    "# 인덱스별로 컬럼값을 막대그래프로 시각화\n",
    "# 데이터프레임 시각화시 막대는 로우이름을 따라간다.\n",
    "df2.plot(kind='bar', rot=0)\n",
    "plt.title(\"품종별 속성값 평균\")\n",
    "plt.xlabel('품종')\n",
    "plt.ylabel('cm')\n",
    "plt.ylim(0, 9)\n",
    "plt.show()"
   ]
  },
  {
   "cell_type": "code",
   "execution_count": 15,
   "metadata": {},
   "outputs": [
    {
     "data": {
      "image/png": "[encoded data removed]",
      "text/plain": [
       "<Figure size 432x288 with 1 Axes>"
      ]
     },
     "metadata": {
      "needs_background": "light"
     },
     "output_type": "display_data"
    }
   ],
   "source": [
    "# x, y축 전치\n",
    "df2.T.plot(kind='bar', rot=0)\n",
    "plt.show()"
   ]
  },
  {
   "cell_type": "code",
   "execution_count": 16,
   "metadata": {},
   "outputs": [
    {
     "data": {
      "image/png": "[encoded data removed]",
      "text/plain": [
       "<Figure size 432x288 with 1 Axes>"
      ]
     },
     "metadata": {
      "needs_background": "light"
     },
     "output_type": "display_data"
    }
   ],
   "source": [
    "# 각 속성별로 데이터 값에 대한 기술통계값 및 이상치 확인 = > box-plot\n",
    "# df.plot(kind='box') => 컬럼을 기준으로 기술 통계,이상치 확인\n",
    "iris.plot(kind='box')\n",
    "plt.show()"
   ]
  },
  {
   "cell_type": "code",
   "execution_count": 17,
   "metadata": {},
   "outputs": [
    {
     "data": {
      "text/plain": [
       "array(['setosa', 'versicolor', 'virginica'], dtype=object)"
      ]
     },
     "execution_count": 17,
     "metadata": {},
     "output_type": "execute_result"
    }
   ],
   "source": [
    "# 붓꽃 종 확인\n",
    "iris.species.unique()"
   ]
  },
  {
   "cell_type": "code",
   "execution_count": 18,
   "metadata": {},
   "outputs": [
    {
     "data": {
      "text/plain": [
       "<matplotlib.axes._subplots.AxesSubplot at 0x1c43ca16f48>"
      ]
     },
     "execution_count": 18,
     "metadata": {},
     "output_type": "execute_result"
    },
    {
     "data": {
      "image/png": "[encoded data removed]",
      "text/plain": [
       "<Figure size 432x288 with 1 Axes>"
      ]
     },
     "metadata": {
      "needs_background": "light"
     },
     "output_type": "display_data"
    }
   ],
   "source": [
    "# 종 별로 box-plot 출력(힌트 : 조건 색인) v\n",
    "# setosa\n",
    "iris[iris.species=='setosa'].plot(kind='box') # iris[iris['species']=='setosa'].plot(kind='box')"
   ]
  },
  {
   "cell_type": "code",
   "execution_count": 19,
   "metadata": {},
   "outputs": [
    {
     "data": {
      "text/plain": [
       "<matplotlib.axes._subplots.AxesSubplot at 0x1c43caeb608>"
      ]
     },
     "execution_count": 19,
     "metadata": {},
     "output_type": "execute_result"
    },
    {
     "data": {
      "image/png": "[encoded data removed]",
      "text/plain": [
       "<Figure size 432x288 with 1 Axes>"
      ]
     },
     "metadata": {
      "needs_background": "light"
     },
     "output_type": "display_data"
    }
   ],
   "source": [
    "# versicolor\n",
    "iris[iris.species=='versicolor'].plot(kind='box')"
   ]
  },
  {
   "cell_type": "code",
   "execution_count": 20,
   "metadata": {},
   "outputs": [
    {
     "data": {
      "text/plain": [
       "<matplotlib.axes._subplots.AxesSubplot at 0x1c43cb80a08>"
      ]
     },
     "execution_count": 20,
     "metadata": {},
     "output_type": "execute_result"
    },
    {
     "data": {
      "image/png": "[encoded data removed]",
      "text/plain": [
       "<Figure size 432x288 with 1 Axes>"
      ]
     },
     "metadata": {
      "needs_background": "light"
     },
     "output_type": "display_data"
    }
   ],
   "source": [
    "# virginica\n",
    "iris[iris.species=='virginica'].plot(kind='box')"
   ]
  },
  {
   "cell_type": "code",
   "execution_count": 23,
   "metadata": {},
   "outputs": [
    {
     "data": {
      "image/png": "[encoded data removed]",
      "text/plain": [
       "<Figure size 432x288 with 4 Axes>"
      ]
     },
     "metadata": {
      "needs_background": "light"
     },
     "output_type": "display_data"
    }
   ],
   "source": [
    "# 품종별로 속성별 boxplot 생성 => 하나의 plot 내부에 여러 boxplot 띄우기\n",
    "# iris.plot(kind='box')\n",
    "iris.boxplot(by='species')\n",
    "plt.tight_layout(pad=2) # 종별로 하나하나 속성별로 비교 가능\n",
    "plt.show()"
   ]
  }
 ],
 "metadata": {
  "kernelspec": {
   "display_name": "Python 3",
   "language": "python",
   "name": "python3"
  },
  "language_info": {
   "codemirror_mode": {
    "name": "ipython",
    "version": 3
   },
   "file_extension": ".py",
   "mimetype": "text/x-python",
   "name": "python",
   "nbconvert_exporter": "python",
   "pygments_lexer": "ipython3",
   "version": "3.7.4"
  }
 },
 "nbformat": 4,
 "nbformat_minor": 2
}
