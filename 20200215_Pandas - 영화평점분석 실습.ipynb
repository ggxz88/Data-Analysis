{
 "cells": [
  {
   "cell_type": "markdown",
   "metadata": {},
   "source": [
    "# 영화 평점 분석 실습"
   ]
  },
  {
   "cell_type": "code",
   "execution_count": 2,
   "metadata": {},
   "outputs": [],
   "source": [
    "# 라이브러리 불러오기\n",
    "import pandas as pd"
   ]
  },
  {
   "cell_type": "markdown",
   "metadata": {},
   "source": [
    "## 1. 영화 평점 데이터 적재 및 결합"
   ]
  },
  {
   "cell_type": "code",
   "execution_count": 3,
   "metadata": {},
   "outputs": [
    {
     "data": {
      "text/html": [
       "<div>\n",
       "<style scoped>\n",
       "    .dataframe tbody tr th:only-of-type {\n",
       "        vertical-align: middle;\n",
       "    }\n",
       "\n",
       "    .dataframe tbody tr th {\n",
       "        vertical-align: top;\n",
       "    }\n",
       "\n",
       "    .dataframe thead th {\n",
       "        text-align: right;\n",
       "    }\n",
       "</style>\n",
       "<table border=\"1\" class=\"dataframe\">\n",
       "  <thead>\n",
       "    <tr style=\"text-align: right;\">\n",
       "      <th></th>\n",
       "      <th>사용자아이디</th>\n",
       "      <th>성별</th>\n",
       "      <th>연령</th>\n",
       "      <th>직업</th>\n",
       "      <th>지역</th>\n",
       "    </tr>\n",
       "  </thead>\n",
       "  <tbody>\n",
       "    <tr>\n",
       "      <td>0</td>\n",
       "      <td>1</td>\n",
       "      <td>F</td>\n",
       "      <td>1</td>\n",
       "      <td>10</td>\n",
       "      <td>48067</td>\n",
       "    </tr>\n",
       "    <tr>\n",
       "      <td>1</td>\n",
       "      <td>2</td>\n",
       "      <td>M</td>\n",
       "      <td>56</td>\n",
       "      <td>16</td>\n",
       "      <td>70072</td>\n",
       "    </tr>\n",
       "    <tr>\n",
       "      <td>2</td>\n",
       "      <td>3</td>\n",
       "      <td>M</td>\n",
       "      <td>25</td>\n",
       "      <td>15</td>\n",
       "      <td>55117</td>\n",
       "    </tr>\n",
       "    <tr>\n",
       "      <td>3</td>\n",
       "      <td>4</td>\n",
       "      <td>M</td>\n",
       "      <td>45</td>\n",
       "      <td>7</td>\n",
       "      <td>02460</td>\n",
       "    </tr>\n",
       "    <tr>\n",
       "      <td>4</td>\n",
       "      <td>5</td>\n",
       "      <td>M</td>\n",
       "      <td>25</td>\n",
       "      <td>20</td>\n",
       "      <td>55455</td>\n",
       "    </tr>\n",
       "  </tbody>\n",
       "</table>\n",
       "</div>"
      ],
      "text/plain": [
       "   사용자아이디 성별  연령  직업     지역\n",
       "0       1  F   1  10  48067\n",
       "1       2  M  56  16  70072\n",
       "2       3  M  25  15  55117\n",
       "3       4  M  45   7  02460\n",
       "4       5  M  25  20  55455"
      ]
     },
     "execution_count": 3,
     "metadata": {},
     "output_type": "execute_result"
    }
   ],
   "source": [
    "# 사용자 정보 적재\n",
    "users = pd.read_csv('data/movie_users.csv')\n",
    "users.drop('Unnamed: 0', axis=1, inplace=True)\n",
    "users.head()"
   ]
  },
  {
   "cell_type": "code",
   "execution_count": 4,
   "metadata": {},
   "outputs": [
    {
     "data": {
      "text/html": [
       "<div>\n",
       "<style scoped>\n",
       "    .dataframe tbody tr th:only-of-type {\n",
       "        vertical-align: middle;\n",
       "    }\n",
       "\n",
       "    .dataframe tbody tr th {\n",
       "        vertical-align: top;\n",
       "    }\n",
       "\n",
       "    .dataframe thead th {\n",
       "        text-align: right;\n",
       "    }\n",
       "</style>\n",
       "<table border=\"1\" class=\"dataframe\">\n",
       "  <thead>\n",
       "    <tr style=\"text-align: right;\">\n",
       "      <th></th>\n",
       "      <th>사용자아이디</th>\n",
       "      <th>영화아이디</th>\n",
       "      <th>평점</th>\n",
       "      <th>타임스탬프</th>\n",
       "    </tr>\n",
       "  </thead>\n",
       "  <tbody>\n",
       "    <tr>\n",
       "      <td>0</td>\n",
       "      <td>1</td>\n",
       "      <td>1193</td>\n",
       "      <td>5</td>\n",
       "      <td>978300760</td>\n",
       "    </tr>\n",
       "    <tr>\n",
       "      <td>1</td>\n",
       "      <td>1</td>\n",
       "      <td>661</td>\n",
       "      <td>3</td>\n",
       "      <td>978302109</td>\n",
       "    </tr>\n",
       "    <tr>\n",
       "      <td>2</td>\n",
       "      <td>1</td>\n",
       "      <td>914</td>\n",
       "      <td>3</td>\n",
       "      <td>978301968</td>\n",
       "    </tr>\n",
       "    <tr>\n",
       "      <td>3</td>\n",
       "      <td>1</td>\n",
       "      <td>3408</td>\n",
       "      <td>4</td>\n",
       "      <td>978300275</td>\n",
       "    </tr>\n",
       "    <tr>\n",
       "      <td>4</td>\n",
       "      <td>1</td>\n",
       "      <td>2355</td>\n",
       "      <td>5</td>\n",
       "      <td>978824291</td>\n",
       "    </tr>\n",
       "  </tbody>\n",
       "</table>\n",
       "</div>"
      ],
      "text/plain": [
       "   사용자아이디  영화아이디  평점      타임스탬프\n",
       "0       1   1193   5  978300760\n",
       "1       1    661   3  978302109\n",
       "2       1    914   3  978301968\n",
       "3       1   3408   4  978300275\n",
       "4       1   2355   5  978824291"
      ]
     },
     "execution_count": 4,
     "metadata": {},
     "output_type": "execute_result"
    }
   ],
   "source": [
    "# 영화 평점 정보 적재\n",
    "ratings = pd.read_csv('data/movie_ratings.csv')\n",
    "ratings.drop('Unnamed: 0', axis=1, inplace=True)\n",
    "ratings.head()"
   ]
  },
  {
   "cell_type": "code",
   "execution_count": 5,
   "metadata": {},
   "outputs": [
    {
     "data": {
      "text/html": [
       "<div>\n",
       "<style scoped>\n",
       "    .dataframe tbody tr th:only-of-type {\n",
       "        vertical-align: middle;\n",
       "    }\n",
       "\n",
       "    .dataframe tbody tr th {\n",
       "        vertical-align: top;\n",
       "    }\n",
       "\n",
       "    .dataframe thead th {\n",
       "        text-align: right;\n",
       "    }\n",
       "</style>\n",
       "<table border=\"1\" class=\"dataframe\">\n",
       "  <thead>\n",
       "    <tr style=\"text-align: right;\">\n",
       "      <th></th>\n",
       "      <th>영화아이디</th>\n",
       "      <th>제목</th>\n",
       "      <th>장르</th>\n",
       "    </tr>\n",
       "  </thead>\n",
       "  <tbody>\n",
       "    <tr>\n",
       "      <td>0</td>\n",
       "      <td>1</td>\n",
       "      <td>Toy Story (1995)</td>\n",
       "      <td>Animation|Children's|Comedy</td>\n",
       "    </tr>\n",
       "    <tr>\n",
       "      <td>1</td>\n",
       "      <td>2</td>\n",
       "      <td>Jumanji (1995)</td>\n",
       "      <td>Adventure|Children's|Fantasy</td>\n",
       "    </tr>\n",
       "    <tr>\n",
       "      <td>2</td>\n",
       "      <td>3</td>\n",
       "      <td>Grumpier Old Men (1995)</td>\n",
       "      <td>Comedy|Romance</td>\n",
       "    </tr>\n",
       "    <tr>\n",
       "      <td>3</td>\n",
       "      <td>4</td>\n",
       "      <td>Waiting to Exhale (1995)</td>\n",
       "      <td>Comedy|Drama</td>\n",
       "    </tr>\n",
       "    <tr>\n",
       "      <td>4</td>\n",
       "      <td>5</td>\n",
       "      <td>Father of the Bride Part II (1995)</td>\n",
       "      <td>Comedy</td>\n",
       "    </tr>\n",
       "  </tbody>\n",
       "</table>\n",
       "</div>"
      ],
      "text/plain": [
       "   영화아이디                                  제목                            장르\n",
       "0      1                    Toy Story (1995)   Animation|Children's|Comedy\n",
       "1      2                      Jumanji (1995)  Adventure|Children's|Fantasy\n",
       "2      3             Grumpier Old Men (1995)                Comedy|Romance\n",
       "3      4            Waiting to Exhale (1995)                  Comedy|Drama\n",
       "4      5  Father of the Bride Part II (1995)                        Comedy"
      ]
     },
     "execution_count": 5,
     "metadata": {},
     "output_type": "execute_result"
    }
   ],
   "source": [
    "# movie.detail.csv 파일을 movies 변수에 입력해주세요\n",
    "# 그리고 쓸데없는 컬럼을 삭제해주시고, .head()로 조회해주세요\n",
    "movies = pd.read_csv('data/movie_details.csv')\n",
    "movies.drop('Unnamed: 0', axis=1, inplace=True)\n",
    "movies.head()"
   ]
  },
  {
   "cell_type": "code",
   "execution_count": 6,
   "metadata": {},
   "outputs": [
    {
     "name": "stdout",
     "output_type": "stream",
     "text": [
      "사용자수 : 6040\n",
      "영화수 : 3883\n",
      "평점수 : 1000209\n"
     ]
    }
   ],
   "source": [
    "# 사용자수, 영화수, 평점수 개수 확인\n",
    "print('''사용자수 : {}\n",
    "영화수 : {}\n",
    "평점수 : {}'''.format(len(users), len(movies), len(ratings)))"
   ]
  },
  {
   "cell_type": "markdown",
   "metadata": {},
   "source": [
    "### 1. 데이터 결합\n",
    "#### 1-1) 사용자 데이터와 영화 평점 데이터를 사용자아이디 컬럼 기준으로 공통으로 존재하는 데이터만 결합"
   ]
  },
  {
   "cell_type": "code",
   "execution_count": 7,
   "metadata": {},
   "outputs": [
    {
     "data": {
      "text/plain": [
       "Index(['사용자아이디', '성별', '연령', '직업', '지역'], dtype='object')"
      ]
     },
     "execution_count": 7,
     "metadata": {},
     "output_type": "execute_result"
    }
   ],
   "source": [
    "# 유저 정보의 컬럼 이름 확인\n",
    "users.columns"
   ]
  },
  {
   "cell_type": "code",
   "execution_count": 8,
   "metadata": {},
   "outputs": [
    {
     "data": {
      "text/plain": [
       "Index(['사용자아이디', '영화아이디', '평점', '타임스탬프'], dtype='object')"
      ]
     },
     "execution_count": 8,
     "metadata": {},
     "output_type": "execute_result"
    }
   ],
   "source": [
    "# 레이팅(평점입력) 정보의 컬럼 이름확인\n",
    "ratings.columns "
   ]
  },
  {
   "cell_type": "code",
   "execution_count": 9,
   "metadata": {},
   "outputs": [
    {
     "name": "stdout",
     "output_type": "stream",
     "text": [
      "(6040, 5)\n",
      "(1000209, 4)\n"
     ]
    }
   ],
   "source": [
    "# users, ratings의 배열 구조 확인\n",
    "print(users.shape)\n",
    "print(ratings.shape)"
   ]
  },
  {
   "cell_type": "code",
   "execution_count": 10,
   "metadata": {},
   "outputs": [
    {
     "data": {
      "text/plain": [
       "(1000209, 8)"
      ]
     },
     "execution_count": 10,
     "metadata": {},
     "output_type": "execute_result"
    }
   ],
   "source": [
    "# data1 변수에 users, ratings 순으로 pd.merge() 메서드를 실행해보세요\n",
    "data1 = pd.merge(users, ratings)\n",
    "# 실행 후 data1.shape로 배열 구조를 확인해주세요\n",
    "data1.shape"
   ]
  },
  {
   "cell_type": "markdown",
   "metadata": {},
   "source": [
    "#### 1-2) 1번 결과에 영화 아이디 컬럼 기준으로 영화 정보 추가하기"
   ]
  },
  {
   "cell_type": "code",
   "execution_count": 11,
   "metadata": {},
   "outputs": [
    {
     "data": {
      "text/html": [
       "<div>\n",
       "<style scoped>\n",
       "    .dataframe tbody tr th:only-of-type {\n",
       "        vertical-align: middle;\n",
       "    }\n",
       "\n",
       "    .dataframe tbody tr th {\n",
       "        vertical-align: top;\n",
       "    }\n",
       "\n",
       "    .dataframe thead th {\n",
       "        text-align: right;\n",
       "    }\n",
       "</style>\n",
       "<table border=\"1\" class=\"dataframe\">\n",
       "  <thead>\n",
       "    <tr style=\"text-align: right;\">\n",
       "      <th></th>\n",
       "      <th>사용자아이디</th>\n",
       "      <th>성별</th>\n",
       "      <th>연령</th>\n",
       "      <th>직업</th>\n",
       "      <th>지역</th>\n",
       "      <th>영화아이디</th>\n",
       "      <th>평점</th>\n",
       "      <th>타임스탬프</th>\n",
       "    </tr>\n",
       "  </thead>\n",
       "  <tbody>\n",
       "    <tr>\n",
       "      <td>0</td>\n",
       "      <td>1</td>\n",
       "      <td>F</td>\n",
       "      <td>1</td>\n",
       "      <td>10</td>\n",
       "      <td>48067</td>\n",
       "      <td>1193</td>\n",
       "      <td>5</td>\n",
       "      <td>978300760</td>\n",
       "    </tr>\n",
       "    <tr>\n",
       "      <td>1</td>\n",
       "      <td>1</td>\n",
       "      <td>F</td>\n",
       "      <td>1</td>\n",
       "      <td>10</td>\n",
       "      <td>48067</td>\n",
       "      <td>661</td>\n",
       "      <td>3</td>\n",
       "      <td>978302109</td>\n",
       "    </tr>\n",
       "    <tr>\n",
       "      <td>2</td>\n",
       "      <td>1</td>\n",
       "      <td>F</td>\n",
       "      <td>1</td>\n",
       "      <td>10</td>\n",
       "      <td>48067</td>\n",
       "      <td>914</td>\n",
       "      <td>3</td>\n",
       "      <td>978301968</td>\n",
       "    </tr>\n",
       "    <tr>\n",
       "      <td>3</td>\n",
       "      <td>1</td>\n",
       "      <td>F</td>\n",
       "      <td>1</td>\n",
       "      <td>10</td>\n",
       "      <td>48067</td>\n",
       "      <td>3408</td>\n",
       "      <td>4</td>\n",
       "      <td>978300275</td>\n",
       "    </tr>\n",
       "    <tr>\n",
       "      <td>4</td>\n",
       "      <td>1</td>\n",
       "      <td>F</td>\n",
       "      <td>1</td>\n",
       "      <td>10</td>\n",
       "      <td>48067</td>\n",
       "      <td>2355</td>\n",
       "      <td>5</td>\n",
       "      <td>978824291</td>\n",
       "    </tr>\n",
       "  </tbody>\n",
       "</table>\n",
       "</div>"
      ],
      "text/plain": [
       "   사용자아이디 성별  연령  직업     지역  영화아이디  평점      타임스탬프\n",
       "0       1  F   1  10  48067   1193   5  978300760\n",
       "1       1  F   1  10  48067    661   3  978302109\n",
       "2       1  F   1  10  48067    914   3  978301968\n",
       "3       1  F   1  10  48067   3408   4  978300275\n",
       "4       1  F   1  10  48067   2355   5  978824291"
      ]
     },
     "execution_count": 11,
     "metadata": {},
     "output_type": "execute_result"
    }
   ],
   "source": [
    "data1.head()"
   ]
  },
  {
   "cell_type": "code",
   "execution_count": 12,
   "metadata": {},
   "outputs": [
    {
     "data": {
      "text/html": [
       "<div>\n",
       "<style scoped>\n",
       "    .dataframe tbody tr th:only-of-type {\n",
       "        vertical-align: middle;\n",
       "    }\n",
       "\n",
       "    .dataframe tbody tr th {\n",
       "        vertical-align: top;\n",
       "    }\n",
       "\n",
       "    .dataframe thead th {\n",
       "        text-align: right;\n",
       "    }\n",
       "</style>\n",
       "<table border=\"1\" class=\"dataframe\">\n",
       "  <thead>\n",
       "    <tr style=\"text-align: right;\">\n",
       "      <th></th>\n",
       "      <th>영화아이디</th>\n",
       "      <th>제목</th>\n",
       "      <th>장르</th>\n",
       "    </tr>\n",
       "  </thead>\n",
       "  <tbody>\n",
       "    <tr>\n",
       "      <td>0</td>\n",
       "      <td>1</td>\n",
       "      <td>Toy Story (1995)</td>\n",
       "      <td>Animation|Children's|Comedy</td>\n",
       "    </tr>\n",
       "    <tr>\n",
       "      <td>1</td>\n",
       "      <td>2</td>\n",
       "      <td>Jumanji (1995)</td>\n",
       "      <td>Adventure|Children's|Fantasy</td>\n",
       "    </tr>\n",
       "    <tr>\n",
       "      <td>2</td>\n",
       "      <td>3</td>\n",
       "      <td>Grumpier Old Men (1995)</td>\n",
       "      <td>Comedy|Romance</td>\n",
       "    </tr>\n",
       "  </tbody>\n",
       "</table>\n",
       "</div>"
      ],
      "text/plain": [
       "   영화아이디                       제목                            장르\n",
       "0      1         Toy Story (1995)   Animation|Children's|Comedy\n",
       "1      2           Jumanji (1995)  Adventure|Children's|Fantasy\n",
       "2      3  Grumpier Old Men (1995)                Comedy|Romance"
      ]
     },
     "execution_count": 12,
     "metadata": {},
     "output_type": "execute_result"
    }
   ],
   "source": [
    "# 영화 데이터인 movies\n",
    "movies.head(3)"
   ]
  },
  {
   "cell_type": "code",
   "execution_count": 13,
   "metadata": {},
   "outputs": [
    {
     "data": {
      "text/html": [
       "<div>\n",
       "<style scoped>\n",
       "    .dataframe tbody tr th:only-of-type {\n",
       "        vertical-align: middle;\n",
       "    }\n",
       "\n",
       "    .dataframe tbody tr th {\n",
       "        vertical-align: top;\n",
       "    }\n",
       "\n",
       "    .dataframe thead th {\n",
       "        text-align: right;\n",
       "    }\n",
       "</style>\n",
       "<table border=\"1\" class=\"dataframe\">\n",
       "  <thead>\n",
       "    <tr style=\"text-align: right;\">\n",
       "      <th></th>\n",
       "      <th>사용자아이디</th>\n",
       "      <th>성별</th>\n",
       "      <th>연령</th>\n",
       "      <th>직업</th>\n",
       "      <th>지역</th>\n",
       "      <th>영화아이디</th>\n",
       "      <th>평점</th>\n",
       "      <th>타임스탬프</th>\n",
       "      <th>제목</th>\n",
       "      <th>장르</th>\n",
       "    </tr>\n",
       "  </thead>\n",
       "  <tbody>\n",
       "    <tr>\n",
       "      <td>0</td>\n",
       "      <td>1</td>\n",
       "      <td>F</td>\n",
       "      <td>1</td>\n",
       "      <td>10</td>\n",
       "      <td>48067</td>\n",
       "      <td>1193</td>\n",
       "      <td>5</td>\n",
       "      <td>978300760</td>\n",
       "      <td>One Flew Over the Cuckoo's Nest (1975)</td>\n",
       "      <td>Drama</td>\n",
       "    </tr>\n",
       "    <tr>\n",
       "      <td>1</td>\n",
       "      <td>2</td>\n",
       "      <td>M</td>\n",
       "      <td>56</td>\n",
       "      <td>16</td>\n",
       "      <td>70072</td>\n",
       "      <td>1193</td>\n",
       "      <td>5</td>\n",
       "      <td>978298413</td>\n",
       "      <td>One Flew Over the Cuckoo's Nest (1975)</td>\n",
       "      <td>Drama</td>\n",
       "    </tr>\n",
       "    <tr>\n",
       "      <td>2</td>\n",
       "      <td>12</td>\n",
       "      <td>M</td>\n",
       "      <td>25</td>\n",
       "      <td>12</td>\n",
       "      <td>32793</td>\n",
       "      <td>1193</td>\n",
       "      <td>4</td>\n",
       "      <td>978220179</td>\n",
       "      <td>One Flew Over the Cuckoo's Nest (1975)</td>\n",
       "      <td>Drama</td>\n",
       "    </tr>\n",
       "    <tr>\n",
       "      <td>3</td>\n",
       "      <td>15</td>\n",
       "      <td>M</td>\n",
       "      <td>25</td>\n",
       "      <td>7</td>\n",
       "      <td>22903</td>\n",
       "      <td>1193</td>\n",
       "      <td>4</td>\n",
       "      <td>978199279</td>\n",
       "      <td>One Flew Over the Cuckoo's Nest (1975)</td>\n",
       "      <td>Drama</td>\n",
       "    </tr>\n",
       "    <tr>\n",
       "      <td>4</td>\n",
       "      <td>17</td>\n",
       "      <td>M</td>\n",
       "      <td>50</td>\n",
       "      <td>1</td>\n",
       "      <td>95350</td>\n",
       "      <td>1193</td>\n",
       "      <td>5</td>\n",
       "      <td>978158471</td>\n",
       "      <td>One Flew Over the Cuckoo's Nest (1975)</td>\n",
       "      <td>Drama</td>\n",
       "    </tr>\n",
       "  </tbody>\n",
       "</table>\n",
       "</div>"
      ],
      "text/plain": [
       "   사용자아이디 성별  연령  직업     지역  영화아이디  평점      타임스탬프  \\\n",
       "0       1  F   1  10  48067   1193   5  978300760   \n",
       "1       2  M  56  16  70072   1193   5  978298413   \n",
       "2      12  M  25  12  32793   1193   4  978220179   \n",
       "3      15  M  25   7  22903   1193   4  978199279   \n",
       "4      17  M  50   1  95350   1193   5  978158471   \n",
       "\n",
       "                                       제목     장르  \n",
       "0  One Flew Over the Cuckoo's Nest (1975)  Drama  \n",
       "1  One Flew Over the Cuckoo's Nest (1975)  Drama  \n",
       "2  One Flew Over the Cuckoo's Nest (1975)  Drama  \n",
       "3  One Flew Over the Cuckoo's Nest (1975)  Drama  \n",
       "4  One Flew Over the Cuckoo's Nest (1975)  Drama  "
      ]
     },
     "execution_count": 13,
     "metadata": {},
     "output_type": "execute_result"
    }
   ],
   "source": [
    "# data1과 movies를 merge해서 data2 변수에 저장해 영화정보를 마저 추가해주세요\n",
    "data2 = pd.merge(data1, movies)\n",
    "# .head()로 merge된 데이터를 간단히 확인해주세요\n",
    "data2.head()"
   ]
  },
  {
   "cell_type": "code",
   "execution_count": 14,
   "metadata": {},
   "outputs": [
    {
     "data": {
      "text/plain": [
       "(1000209, 10)"
      ]
     },
     "execution_count": 14,
     "metadata": {},
     "output_type": "execute_result"
    }
   ],
   "source": [
    "# data2의 배열 구조 확인\n",
    "data2.shape"
   ]
  },
  {
   "cell_type": "markdown",
   "metadata": {},
   "source": [
    "### 2. 인기 있는 영화 10개 찾기\n",
    "    - 기준 : 평점이 4.5 이상이고 평점 개수가 500개 이상인 영화"
   ]
  },
  {
   "cell_type": "code",
   "execution_count": 15,
   "metadata": {},
   "outputs": [
    {
     "data": {
      "text/html": [
       "<div>\n",
       "<style scoped>\n",
       "    .dataframe tbody tr th:only-of-type {\n",
       "        vertical-align: middle;\n",
       "    }\n",
       "\n",
       "    .dataframe tbody tr th {\n",
       "        vertical-align: top;\n",
       "    }\n",
       "\n",
       "    .dataframe thead th {\n",
       "        text-align: right;\n",
       "    }\n",
       "</style>\n",
       "<table border=\"1\" class=\"dataframe\">\n",
       "  <thead>\n",
       "    <tr style=\"text-align: right;\">\n",
       "      <th></th>\n",
       "      <th>사용자아이디</th>\n",
       "      <th>성별</th>\n",
       "      <th>연령</th>\n",
       "      <th>직업</th>\n",
       "      <th>지역</th>\n",
       "      <th>영화아이디</th>\n",
       "      <th>평점</th>\n",
       "      <th>타임스탬프</th>\n",
       "      <th>제목</th>\n",
       "      <th>장르</th>\n",
       "    </tr>\n",
       "  </thead>\n",
       "  <tbody>\n",
       "    <tr>\n",
       "      <td>0</td>\n",
       "      <td>1</td>\n",
       "      <td>F</td>\n",
       "      <td>1</td>\n",
       "      <td>10</td>\n",
       "      <td>48067</td>\n",
       "      <td>1193</td>\n",
       "      <td>5</td>\n",
       "      <td>978300760</td>\n",
       "      <td>One Flew Over the Cuckoo's Nest (1975)</td>\n",
       "      <td>Drama</td>\n",
       "    </tr>\n",
       "    <tr>\n",
       "      <td>233796</td>\n",
       "      <td>5374</td>\n",
       "      <td>M</td>\n",
       "      <td>35</td>\n",
       "      <td>7</td>\n",
       "      <td>38018</td>\n",
       "      <td>2770</td>\n",
       "      <td>5</td>\n",
       "      <td>962391108</td>\n",
       "      <td>Bowfinger (1999)</td>\n",
       "      <td>Comedy</td>\n",
       "    </tr>\n",
       "    <tr>\n",
       "      <td>233813</td>\n",
       "      <td>5483</td>\n",
       "      <td>F</td>\n",
       "      <td>25</td>\n",
       "      <td>6</td>\n",
       "      <td>15202</td>\n",
       "      <td>2770</td>\n",
       "      <td>5</td>\n",
       "      <td>959888512</td>\n",
       "      <td>Bowfinger (1999)</td>\n",
       "      <td>Comedy</td>\n",
       "    </tr>\n",
       "    <tr>\n",
       "      <td>669852</td>\n",
       "      <td>1812</td>\n",
       "      <td>F</td>\n",
       "      <td>25</td>\n",
       "      <td>12</td>\n",
       "      <td>48103</td>\n",
       "      <td>3635</td>\n",
       "      <td>5</td>\n",
       "      <td>974706848</td>\n",
       "      <td>Spy Who Loved Me, The (1977)</td>\n",
       "      <td>Action</td>\n",
       "    </tr>\n",
       "    <tr>\n",
       "      <td>669856</td>\n",
       "      <td>1871</td>\n",
       "      <td>F</td>\n",
       "      <td>45</td>\n",
       "      <td>1</td>\n",
       "      <td>46774</td>\n",
       "      <td>3635</td>\n",
       "      <td>5</td>\n",
       "      <td>974694190</td>\n",
       "      <td>Spy Who Loved Me, The (1977)</td>\n",
       "      <td>Action</td>\n",
       "    </tr>\n",
       "    <tr>\n",
       "      <td>669859</td>\n",
       "      <td>1889</td>\n",
       "      <td>M</td>\n",
       "      <td>18</td>\n",
       "      <td>14</td>\n",
       "      <td>80023</td>\n",
       "      <td>3635</td>\n",
       "      <td>5</td>\n",
       "      <td>976434211</td>\n",
       "      <td>Spy Who Loved Me, The (1977)</td>\n",
       "      <td>Action</td>\n",
       "    </tr>\n",
       "    <tr>\n",
       "      <td>669868</td>\n",
       "      <td>1983</td>\n",
       "      <td>M</td>\n",
       "      <td>25</td>\n",
       "      <td>14</td>\n",
       "      <td>92109</td>\n",
       "      <td>3635</td>\n",
       "      <td>5</td>\n",
       "      <td>974685468</td>\n",
       "      <td>Spy Who Loved Me, The (1977)</td>\n",
       "      <td>Action</td>\n",
       "    </tr>\n",
       "    <tr>\n",
       "      <td>669877</td>\n",
       "      <td>2180</td>\n",
       "      <td>M</td>\n",
       "      <td>25</td>\n",
       "      <td>12</td>\n",
       "      <td>27713-9225</td>\n",
       "      <td>3635</td>\n",
       "      <td>5</td>\n",
       "      <td>974609427</td>\n",
       "      <td>Spy Who Loved Me, The (1977)</td>\n",
       "      <td>Action</td>\n",
       "    </tr>\n",
       "    <tr>\n",
       "      <td>669879</td>\n",
       "      <td>2195</td>\n",
       "      <td>M</td>\n",
       "      <td>1</td>\n",
       "      <td>10</td>\n",
       "      <td>60148</td>\n",
       "      <td>3635</td>\n",
       "      <td>5</td>\n",
       "      <td>974766628</td>\n",
       "      <td>Spy Who Loved Me, The (1977)</td>\n",
       "      <td>Action</td>\n",
       "    </tr>\n",
       "    <tr>\n",
       "      <td>233820</td>\n",
       "      <td>5511</td>\n",
       "      <td>M</td>\n",
       "      <td>45</td>\n",
       "      <td>1</td>\n",
       "      <td>92407</td>\n",
       "      <td>2770</td>\n",
       "      <td>5</td>\n",
       "      <td>959718168</td>\n",
       "      <td>Bowfinger (1999)</td>\n",
       "      <td>Comedy</td>\n",
       "    </tr>\n",
       "  </tbody>\n",
       "</table>\n",
       "</div>"
      ],
      "text/plain": [
       "        사용자아이디 성별  연령  직업          지역  영화아이디  평점      타임스탬프  \\\n",
       "0            1  F   1  10       48067   1193   5  978300760   \n",
       "233796    5374  M  35   7       38018   2770   5  962391108   \n",
       "233813    5483  F  25   6       15202   2770   5  959888512   \n",
       "669852    1812  F  25  12       48103   3635   5  974706848   \n",
       "669856    1871  F  45   1       46774   3635   5  974694190   \n",
       "669859    1889  M  18  14       80023   3635   5  976434211   \n",
       "669868    1983  M  25  14       92109   3635   5  974685468   \n",
       "669877    2180  M  25  12  27713-9225   3635   5  974609427   \n",
       "669879    2195  M   1  10       60148   3635   5  974766628   \n",
       "233820    5511  M  45   1       92407   2770   5  959718168   \n",
       "\n",
       "                                            제목      장르  \n",
       "0       One Flew Over the Cuckoo's Nest (1975)   Drama  \n",
       "233796                        Bowfinger (1999)  Comedy  \n",
       "233813                        Bowfinger (1999)  Comedy  \n",
       "669852            Spy Who Loved Me, The (1977)  Action  \n",
       "669856            Spy Who Loved Me, The (1977)  Action  \n",
       "669859            Spy Who Loved Me, The (1977)  Action  \n",
       "669868            Spy Who Loved Me, The (1977)  Action  \n",
       "669877            Spy Who Loved Me, The (1977)  Action  \n",
       "669879            Spy Who Loved Me, The (1977)  Action  \n",
       "233820                        Bowfinger (1999)  Comedy  "
      ]
     },
     "execution_count": 15,
     "metadata": {},
     "output_type": "execute_result"
    }
   ],
   "source": [
    "# 평점이 높은 순서로 10개 정렬(head 활용) # by!, index 아님\n",
    "data2.sort_values(by='평점', ascending=False).head(10)"
   ]
  },
  {
   "cell_type": "code",
   "execution_count": 16,
   "metadata": {},
   "outputs": [],
   "source": [
    "# 하나의 영화에 여러 개의 평점이 존재하는 1:N관계이므로\n",
    "# 사용자 아이디는 사실상 영화별 평균평점을 구하는데는 불필요한 자료\n",
    "# 따라서 내가 원하는 로우(index) : 영화제목\n",
    "# 원하는 컬럼(values) : 영화 평점\n",
    "# 집계함수(aggfunc) : 평점\n",
    "# 으로 pivot_table을 data2에 걸어 집계해보세요, 정렬을 하지 않아도 됨\n",
    "data3 = data2.pivot_table(index=['제목'], values=['평점'], aggfunc='mean' )"
   ]
  },
  {
   "cell_type": "code",
   "execution_count": 17,
   "metadata": {},
   "outputs": [
    {
     "data": {
      "text/html": [
       "<div>\n",
       "<style scoped>\n",
       "    .dataframe tbody tr th:only-of-type {\n",
       "        vertical-align: middle;\n",
       "    }\n",
       "\n",
       "    .dataframe tbody tr th {\n",
       "        vertical-align: top;\n",
       "    }\n",
       "\n",
       "    .dataframe thead th {\n",
       "        text-align: right;\n",
       "    }\n",
       "</style>\n",
       "<table border=\"1\" class=\"dataframe\">\n",
       "  <thead>\n",
       "    <tr style=\"text-align: right;\">\n",
       "      <th></th>\n",
       "      <th>평점</th>\n",
       "    </tr>\n",
       "    <tr>\n",
       "      <th>제목</th>\n",
       "      <th></th>\n",
       "    </tr>\n",
       "  </thead>\n",
       "  <tbody>\n",
       "    <tr>\n",
       "      <td>Ulysses (Ulisse) (1954)</td>\n",
       "      <td>5.0</td>\n",
       "    </tr>\n",
       "    <tr>\n",
       "      <td>Lured (1947)</td>\n",
       "      <td>5.0</td>\n",
       "    </tr>\n",
       "    <tr>\n",
       "      <td>Follow the Bitch (1998)</td>\n",
       "      <td>5.0</td>\n",
       "    </tr>\n",
       "    <tr>\n",
       "      <td>Bittersweet Motel (2000)</td>\n",
       "      <td>5.0</td>\n",
       "    </tr>\n",
       "    <tr>\n",
       "      <td>Song of Freedom (1936)</td>\n",
       "      <td>5.0</td>\n",
       "    </tr>\n",
       "    <tr>\n",
       "      <td>...</td>\n",
       "      <td>...</td>\n",
       "    </tr>\n",
       "    <tr>\n",
       "      <td>Fantastic Night, The (La Nuit Fantastique) (1949)</td>\n",
       "      <td>1.0</td>\n",
       "    </tr>\n",
       "    <tr>\n",
       "      <td>Cheetah (1989)</td>\n",
       "      <td>1.0</td>\n",
       "    </tr>\n",
       "    <tr>\n",
       "      <td>Torso (Corpi Presentano Tracce di Violenza Carnale) (1973)</td>\n",
       "      <td>1.0</td>\n",
       "    </tr>\n",
       "    <tr>\n",
       "      <td>Mutters Courage (1995)</td>\n",
       "      <td>1.0</td>\n",
       "    </tr>\n",
       "    <tr>\n",
       "      <td>Windows (1980)</td>\n",
       "      <td>1.0</td>\n",
       "    </tr>\n",
       "  </tbody>\n",
       "</table>\n",
       "<p>3706 rows × 1 columns</p>\n",
       "</div>"
      ],
      "text/plain": [
       "                                                     평점\n",
       "제목                                                     \n",
       "Ulysses (Ulisse) (1954)                             5.0\n",
       "Lured (1947)                                        5.0\n",
       "Follow the Bitch (1998)                             5.0\n",
       "Bittersweet Motel (2000)                            5.0\n",
       "Song of Freedom (1936)                              5.0\n",
       "...                                                 ...\n",
       "Fantastic Night, The (La Nuit Fantastique) (1949)   1.0\n",
       "Cheetah (1989)                                      1.0\n",
       "Torso (Corpi Presentano Tracce di Violenza Carn...  1.0\n",
       "Mutters Courage (1995)                              1.0\n",
       "Windows (1980)                                      1.0\n",
       "\n",
       "[3706 rows x 1 columns]"
      ]
     },
     "execution_count": 17,
     "metadata": {},
     "output_type": "execute_result"
    }
   ],
   "source": [
    "# data3를 평점 높은 순으로 정렬\n",
    "data3.sort_values(by='평점', ascending=False)"
   ]
  },
  {
   "cell_type": "code",
   "execution_count": 20,
   "metadata": {},
   "outputs": [],
   "source": [
    "# 평점을 기준으로 정렬하되 평점만 출력하는게 아니라, 입력된 평가개수도 같이 출력\n",
    "# data2에 대해서 pivot_table을 걸 때\n",
    "# 로우 : 제목\n",
    "# 값 : 평점\n",
    "# 집계함수 : [mean, count]\n",
    "result = data2.pivot_table(index='제목', values='평점', aggfunc=['mean', 'count'])"
   ]
  },
  {
   "cell_type": "code",
   "execution_count": 21,
   "metadata": {},
   "outputs": [
    {
     "data": {
      "text/html": [
       "<div>\n",
       "<style scoped>\n",
       "    .dataframe tbody tr th:only-of-type {\n",
       "        vertical-align: middle;\n",
       "    }\n",
       "\n",
       "    .dataframe tbody tr th {\n",
       "        vertical-align: top;\n",
       "    }\n",
       "\n",
       "    .dataframe thead tr th {\n",
       "        text-align: left;\n",
       "    }\n",
       "\n",
       "    .dataframe thead tr:last-of-type th {\n",
       "        text-align: right;\n",
       "    }\n",
       "</style>\n",
       "<table border=\"1\" class=\"dataframe\">\n",
       "  <thead>\n",
       "    <tr>\n",
       "      <th></th>\n",
       "      <th>mean</th>\n",
       "      <th>count</th>\n",
       "    </tr>\n",
       "    <tr>\n",
       "      <th></th>\n",
       "      <th>평점</th>\n",
       "      <th>평점</th>\n",
       "    </tr>\n",
       "    <tr>\n",
       "      <th>제목</th>\n",
       "      <th></th>\n",
       "      <th></th>\n",
       "    </tr>\n",
       "  </thead>\n",
       "  <tbody>\n",
       "    <tr>\n",
       "      <td>$1,000,000 Duck (1971)</td>\n",
       "      <td>3.027027</td>\n",
       "      <td>37</td>\n",
       "    </tr>\n",
       "    <tr>\n",
       "      <td>'Night Mother (1986)</td>\n",
       "      <td>3.371429</td>\n",
       "      <td>70</td>\n",
       "    </tr>\n",
       "    <tr>\n",
       "      <td>'Til There Was You (1997)</td>\n",
       "      <td>2.692308</td>\n",
       "      <td>52</td>\n",
       "    </tr>\n",
       "    <tr>\n",
       "      <td>'burbs, The (1989)</td>\n",
       "      <td>2.910891</td>\n",
       "      <td>303</td>\n",
       "    </tr>\n",
       "    <tr>\n",
       "      <td>...And Justice for All (1979)</td>\n",
       "      <td>3.713568</td>\n",
       "      <td>199</td>\n",
       "    </tr>\n",
       "  </tbody>\n",
       "</table>\n",
       "</div>"
      ],
      "text/plain": [
       "                                   mean count\n",
       "                                     평점    평점\n",
       "제목                                           \n",
       "$1,000,000 Duck (1971)         3.027027    37\n",
       "'Night Mother (1986)           3.371429    70\n",
       "'Til There Was You (1997)      2.692308    52\n",
       "'burbs, The (1989)             2.910891   303\n",
       "...And Justice for All (1979)  3.713568   199"
      ]
     },
     "execution_count": 21,
     "metadata": {},
     "output_type": "execute_result"
    }
   ],
   "source": [
    "result.head()"
   ]
  },
  {
   "cell_type": "code",
   "execution_count": null,
   "metadata": {},
   "outputs": [],
   "source": [
    "# result에 대해 swaplevel()를 이용해 계층색인을 재배치해주세요\n",
    "result2 = result.swaplevel(1, 0, axis=1)"
   ]
  },
  {
   "cell_type": "code",
   "execution_count": null,
   "metadata": {},
   "outputs": [],
   "source": [
    "result2.head(3)"
   ]
  },
  {
   "cell_type": "code",
   "execution_count": null,
   "metadata": {},
   "outputs": [],
   "source": [
    "# 평점 -> mean으로 정렬하되, 동점일 경우 평점 -> count 순서로 정렬시키기\n",
    "result3 = result2.sort_values(by=[('평점', 'mean'), ('평점', 'count')], ascending=False)"
   ]
  },
  {
   "cell_type": "code",
   "execution_count": null,
   "metadata": {},
   "outputs": [],
   "source": [
    "# result3에 대해서 조건색인을 이용해\n",
    "# 평점 평균이 4, 5이상이면서 평점 개수가 500개 이상인 영화만 남겨보기\n",
    "# ex) 이중 칼럼은 result3['평점']['mean']과 같이 이중리스트로 조회한다.\n",
    "# final_result = result3((평점->mean이 4.5 이상) & (평점->count가 500 이상))\n",
    "final_result = result3[(result3['평점']['mean']>=4.5) & (result3['평점']['count']>500)]"
   ]
  },
  {
   "cell_type": "code",
   "execution_count": null,
   "metadata": {},
   "outputs": [],
   "source": [
    "final_result"
   ]
  },
  {
   "cell_type": "code",
   "execution_count": null,
   "metadata": {},
   "outputs": [],
   "source": []
  }
 ],
 "metadata": {
  "kernelspec": {
   "display_name": "Python 3",
   "language": "python",
   "name": "python3"
  },
  "language_info": {
   "codemirror_mode": {
    "name": "ipython",
    "version": 3
   },
   "file_extension": ".py",
   "mimetype": "text/x-python",
   "name": "python",
   "nbconvert_exporter": "python",
   "pygments_lexer": "ipython3",
   "version": "3.7.4"
  }
 },
 "nbformat": 4,
 "nbformat_minor": 2
}
